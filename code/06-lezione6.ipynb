{
 "cells": [
  {
   "cell_type": "markdown",
   "id": "sweet-wagon",
   "metadata": {},
   "source": [
    "# Esercizio per casa\n",
    "\n",
    "Sia `a` una lista di numeri e stringhe, scrivere un programma che modifichi la lista posizionando i numeri prima delle stringhe.\n",
    "\n",
    "**Per la lode :-)** Fare in modo che i numeri siano ordinati dal più piccolo al più grande e le stringhe in ordine lessicografico.\n",
    "\n",
    "## Soluzione"
   ]
  },
  {
   "cell_type": "code",
   "execution_count": null,
   "id": "inner-premises",
   "metadata": {},
   "outputs": [],
   "source": [
    "a = ['zero', 9, 1, 'due', 3.14, 'tre']"
   ]
  },
  {
   "cell_type": "code",
   "execution_count": null,
   "id": "senior-float",
   "metadata": {},
   "outputs": [],
   "source": [
    "sorted(a)"
   ]
  },
  {
   "cell_type": "code",
   "execution_count": null,
   "id": "musical-insured",
   "metadata": {},
   "outputs": [],
   "source": [
    "def f(x):\n",
    "    if type(x) == str:\n",
    "        return 1\n",
    "    else:\n",
    "        return 0\n",
    "    \n",
    "a.sort(key=f)"
   ]
  },
  {
   "cell_type": "code",
   "execution_count": null,
   "id": "minus-farming",
   "metadata": {},
   "outputs": [],
   "source": [
    "print(a)"
   ]
  },
  {
   "cell_type": "code",
   "execution_count": null,
   "id": "attempted-woman",
   "metadata": {},
   "outputs": [],
   "source": [
    "a = ['zero', 9, 1, 'due', 3.14, 'tre']\n",
    "\n",
    "b = sorted(a, key=lambda x: 1 if type(x) == str else 0)\n",
    "\n",
    "print(b)"
   ]
  },
  {
   "cell_type": "markdown",
   "id": "fuzzy-particular",
   "metadata": {},
   "source": [
    "# Tuple"
   ]
  },
  {
   "cell_type": "code",
   "execution_count": null,
   "id": "smaller-techno",
   "metadata": {},
   "outputs": [],
   "source": [
    "t = (1, 'uno', (9, 'str'), 3.14 )"
   ]
  },
  {
   "cell_type": "code",
   "execution_count": null,
   "id": "recovered-collect",
   "metadata": {},
   "outputs": [],
   "source": [
    "type(t)"
   ]
  },
  {
   "cell_type": "code",
   "execution_count": null,
   "id": "decimal-mainland",
   "metadata": {},
   "outputs": [],
   "source": [
    "t[1]"
   ]
  },
  {
   "cell_type": "code",
   "execution_count": null,
   "id": "swedish-compression",
   "metadata": {},
   "outputs": [],
   "source": [
    "t[1] = 0"
   ]
  },
  {
   "cell_type": "markdown",
   "id": "written-serial",
   "metadata": {},
   "source": [
    "**OK** slicing, concatenazione, ripetizione, indicizzazione.\n",
    "\n",
    "**NO**: mutazione"
   ]
  },
  {
   "cell_type": "code",
   "execution_count": null,
   "id": "behavioral-rebel",
   "metadata": {},
   "outputs": [],
   "source": [
    "x, y = 0, 10\n",
    "x, y = y, x\n",
    "print(x, y)"
   ]
  },
  {
   "cell_type": "code",
   "execution_count": null,
   "id": "surface-cargo",
   "metadata": {},
   "outputs": [],
   "source": [
    "t = y, x   # packing"
   ]
  },
  {
   "cell_type": "code",
   "execution_count": null,
   "id": "promising-clear",
   "metadata": {},
   "outputs": [],
   "source": [
    "print(t)"
   ]
  },
  {
   "cell_type": "code",
   "execution_count": null,
   "id": "timely-advancement",
   "metadata": {},
   "outputs": [],
   "source": [
    "type(t)"
   ]
  },
  {
   "cell_type": "code",
   "execution_count": null,
   "id": "corresponding-tension",
   "metadata": {},
   "outputs": [],
   "source": [
    "x, y = t # unpacking"
   ]
  },
  {
   "cell_type": "code",
   "execution_count": null,
   "id": "operating-translator",
   "metadata": {},
   "outputs": [],
   "source": [
    "t0 = (0,1,2)\n",
    "x, y = t0"
   ]
  },
  {
   "cell_type": "code",
   "execution_count": null,
   "id": "passive-metallic",
   "metadata": {},
   "outputs": [],
   "source": [
    "x, y = 0, 1\n",
    "\n",
    "# equivalente a...\n",
    "\n",
    "t = 0, 1\n",
    "x, y = t"
   ]
  },
  {
   "cell_type": "code",
   "execution_count": null,
   "id": "valued-measurement",
   "metadata": {},
   "outputs": [],
   "source": [
    "(0, 1) < (1, 1)"
   ]
  },
  {
   "cell_type": "code",
   "execution_count": null,
   "id": "difficult-willow",
   "metadata": {},
   "outputs": [],
   "source": [
    "(0, 0) < (0, 1)"
   ]
  },
  {
   "cell_type": "code",
   "execution_count": null,
   "id": "isolated-certification",
   "metadata": {},
   "outputs": [],
   "source": [
    "(1, 1) < (0, 1)"
   ]
  },
  {
   "cell_type": "code",
   "execution_count": null,
   "id": "medieval-raleigh",
   "metadata": {},
   "outputs": [],
   "source": [
    "(0, 1) <= (0, 1)"
   ]
  },
  {
   "cell_type": "code",
   "execution_count": null,
   "id": "respective-artist",
   "metadata": {},
   "outputs": [],
   "source": [
    "t = (1,2,3,4)\n",
    "L = list(t)"
   ]
  },
  {
   "cell_type": "code",
   "execution_count": null,
   "id": "ruled-dinner",
   "metadata": {},
   "outputs": [],
   "source": [
    "print(L)"
   ]
  },
  {
   "cell_type": "code",
   "execution_count": null,
   "id": "seventh-somerset",
   "metadata": {},
   "outputs": [],
   "source": [
    "t = tuple(L)"
   ]
  },
  {
   "cell_type": "code",
   "execution_count": null,
   "id": "legal-tablet",
   "metadata": {},
   "outputs": [],
   "source": [
    "print(t)"
   ]
  },
  {
   "cell_type": "markdown",
   "id": "upper-share",
   "metadata": {},
   "source": [
    "**Ordinamento multicriterio**. La funzione usata come parametro `key` restituisce una tupla in cui ogni elemento rappresenta il valore su un determinato parametro. I valori relativi a criteri prioritari occupano le prime posizioni della tupla.\n",
    "\n",
    "La seguente funzione, usata come funzione `key` in `sorted`, risolve il secondo punto dell'esercizio assegnato per casa."
   ]
  },
  {
   "cell_type": "code",
   "execution_count": null,
   "id": "above-scanner",
   "metadata": {},
   "outputs": [],
   "source": [
    "def key_f(x):\n",
    "    if type(x) == str:\n",
    "        return (1, x)\n",
    "    else:\n",
    "        return 0, x"
   ]
  },
  {
   "cell_type": "code",
   "execution_count": null,
   "id": "secondary-backing",
   "metadata": {},
   "outputs": [],
   "source": [
    "print(a)"
   ]
  },
  {
   "cell_type": "code",
   "execution_count": null,
   "id": "fitted-relay",
   "metadata": {},
   "outputs": [],
   "source": [
    "a.sort(key=key_f)\n",
    "print(a)"
   ]
  },
  {
   "cell_type": "code",
   "execution_count": null,
   "id": "previous-slope",
   "metadata": {},
   "outputs": [],
   "source": [
    "a = ['zero', 9, 1, 'due', 3.14, 'tre']\n",
    "a.sort(key=lambda x: (1, x) if type(x) == str else (0, x))\n",
    "print(a)"
   ]
  },
  {
   "cell_type": "markdown",
   "id": "saving-publisher",
   "metadata": {},
   "source": [
    "# Moduli"
   ]
  },
  {
   "cell_type": "code",
   "execution_count": null,
   "id": "leading-france",
   "metadata": {},
   "outputs": [],
   "source": [
    "import random "
   ]
  },
  {
   "cell_type": "code",
   "execution_count": null,
   "id": "expired-belief",
   "metadata": {},
   "outputs": [],
   "source": [
    "random.randint(1,10)"
   ]
  },
  {
   "cell_type": "code",
   "execution_count": null,
   "id": "dominant-cache",
   "metadata": {},
   "outputs": [],
   "source": [
    "help(random.randint)"
   ]
  },
  {
   "cell_type": "code",
   "execution_count": null,
   "id": "alpha-windows",
   "metadata": {},
   "outputs": [],
   "source": [
    "dir(random)"
   ]
  },
  {
   "cell_type": "code",
   "execution_count": null,
   "id": "excess-shooting",
   "metadata": {},
   "outputs": [],
   "source": [
    "help(random.random)"
   ]
  },
  {
   "cell_type": "code",
   "execution_count": null,
   "id": "married-worth",
   "metadata": {},
   "outputs": [],
   "source": [
    "help(random.shuffle)"
   ]
  },
  {
   "cell_type": "code",
   "execution_count": null,
   "id": "heavy-portable",
   "metadata": {},
   "outputs": [],
   "source": [
    "a = [0,1,2,3,4,5]\n",
    "random.shuffle(a)\n",
    "print(a)"
   ]
  },
  {
   "cell_type": "code",
   "execution_count": null,
   "id": "central-metallic",
   "metadata": {},
   "outputs": [],
   "source": [
    "import random as rn  # indica il nome con cui utilizzare la libreria"
   ]
  },
  {
   "cell_type": "code",
   "execution_count": null,
   "id": "flying-handling",
   "metadata": {},
   "outputs": [],
   "source": [
    "rn.shuffle(a)"
   ]
  },
  {
   "cell_type": "code",
   "execution_count": 1,
   "id": "allied-conspiracy",
   "metadata": {},
   "outputs": [],
   "source": [
    "from random import randint  # importa soltanto una funzione"
   ]
  },
  {
   "cell_type": "code",
   "execution_count": 2,
   "id": "french-posting",
   "metadata": {},
   "outputs": [
    {
     "data": {
      "text/plain": [
       "4"
      ]
     },
     "execution_count": 2,
     "metadata": {},
     "output_type": "execute_result"
    }
   ],
   "source": [
    "randint(1,10)"
   ]
  },
  {
   "cell_type": "code",
   "execution_count": 3,
   "id": "continuous-narrow",
   "metadata": {},
   "outputs": [],
   "source": [
    "import math as m"
   ]
  },
  {
   "cell_type": "code",
   "execution_count": 4,
   "id": "novel-marketing",
   "metadata": {},
   "outputs": [
    {
     "data": {
      "text/plain": [
       "['__doc__',\n",
       " '__loader__',\n",
       " '__name__',\n",
       " '__package__',\n",
       " '__spec__',\n",
       " 'acos',\n",
       " 'acosh',\n",
       " 'asin',\n",
       " 'asinh',\n",
       " 'atan',\n",
       " 'atan2',\n",
       " 'atanh',\n",
       " 'ceil',\n",
       " 'comb',\n",
       " 'copysign',\n",
       " 'cos',\n",
       " 'cosh',\n",
       " 'degrees',\n",
       " 'dist',\n",
       " 'e',\n",
       " 'erf',\n",
       " 'erfc',\n",
       " 'exp',\n",
       " 'expm1',\n",
       " 'fabs',\n",
       " 'factorial',\n",
       " 'floor',\n",
       " 'fmod',\n",
       " 'frexp',\n",
       " 'fsum',\n",
       " 'gamma',\n",
       " 'gcd',\n",
       " 'hypot',\n",
       " 'inf',\n",
       " 'isclose',\n",
       " 'isfinite',\n",
       " 'isinf',\n",
       " 'isnan',\n",
       " 'isqrt',\n",
       " 'lcm',\n",
       " 'ldexp',\n",
       " 'lgamma',\n",
       " 'log',\n",
       " 'log10',\n",
       " 'log1p',\n",
       " 'log2',\n",
       " 'modf',\n",
       " 'nan',\n",
       " 'nextafter',\n",
       " 'perm',\n",
       " 'pi',\n",
       " 'pow',\n",
       " 'prod',\n",
       " 'radians',\n",
       " 'remainder',\n",
       " 'sin',\n",
       " 'sinh',\n",
       " 'sqrt',\n",
       " 'tan',\n",
       " 'tanh',\n",
       " 'tau',\n",
       " 'trunc',\n",
       " 'ulp']"
      ]
     },
     "execution_count": 4,
     "metadata": {},
     "output_type": "execute_result"
    }
   ],
   "source": [
    "dir(m)"
   ]
  },
  {
   "cell_type": "code",
   "execution_count": 5,
   "id": "complex-induction",
   "metadata": {},
   "outputs": [],
   "source": [
    "import os"
   ]
  },
  {
   "cell_type": "code",
   "execution_count": 6,
   "id": "seventh-atlanta",
   "metadata": {},
   "outputs": [
    {
     "data": {
      "text/plain": [
       "['CLD_CONTINUED',\n",
       " 'CLD_DUMPED',\n",
       " 'CLD_EXITED',\n",
       " 'CLD_KILLED',\n",
       " 'CLD_STOPPED',\n",
       " 'CLD_TRAPPED',\n",
       " 'DirEntry',\n",
       " 'EX_CANTCREAT',\n",
       " 'EX_CONFIG',\n",
       " 'EX_DATAERR',\n",
       " 'EX_IOERR',\n",
       " 'EX_NOHOST',\n",
       " 'EX_NOINPUT',\n",
       " 'EX_NOPERM',\n",
       " 'EX_NOUSER',\n",
       " 'EX_OK',\n",
       " 'EX_OSERR',\n",
       " 'EX_OSFILE',\n",
       " 'EX_PROTOCOL',\n",
       " 'EX_SOFTWARE',\n",
       " 'EX_TEMPFAIL',\n",
       " 'EX_UNAVAILABLE',\n",
       " 'EX_USAGE',\n",
       " 'F_LOCK',\n",
       " 'F_OK',\n",
       " 'F_TEST',\n",
       " 'F_TLOCK',\n",
       " 'F_ULOCK',\n",
       " 'GRND_NONBLOCK',\n",
       " 'GRND_RANDOM',\n",
       " 'GenericAlias',\n",
       " 'MFD_ALLOW_SEALING',\n",
       " 'MFD_CLOEXEC',\n",
       " 'MFD_HUGETLB',\n",
       " 'MFD_HUGE_16GB',\n",
       " 'MFD_HUGE_16MB',\n",
       " 'MFD_HUGE_1GB',\n",
       " 'MFD_HUGE_1MB',\n",
       " 'MFD_HUGE_256MB',\n",
       " 'MFD_HUGE_2GB',\n",
       " 'MFD_HUGE_2MB',\n",
       " 'MFD_HUGE_32MB',\n",
       " 'MFD_HUGE_512KB',\n",
       " 'MFD_HUGE_512MB',\n",
       " 'MFD_HUGE_64KB',\n",
       " 'MFD_HUGE_8MB',\n",
       " 'MFD_HUGE_MASK',\n",
       " 'MFD_HUGE_SHIFT',\n",
       " 'Mapping',\n",
       " 'MutableMapping',\n",
       " 'NGROUPS_MAX',\n",
       " 'O_ACCMODE',\n",
       " 'O_APPEND',\n",
       " 'O_ASYNC',\n",
       " 'O_CLOEXEC',\n",
       " 'O_CREAT',\n",
       " 'O_DIRECT',\n",
       " 'O_DIRECTORY',\n",
       " 'O_DSYNC',\n",
       " 'O_EXCL',\n",
       " 'O_LARGEFILE',\n",
       " 'O_NDELAY',\n",
       " 'O_NOATIME',\n",
       " 'O_NOCTTY',\n",
       " 'O_NOFOLLOW',\n",
       " 'O_NONBLOCK',\n",
       " 'O_PATH',\n",
       " 'O_RDONLY',\n",
       " 'O_RDWR',\n",
       " 'O_RSYNC',\n",
       " 'O_SYNC',\n",
       " 'O_TMPFILE',\n",
       " 'O_TRUNC',\n",
       " 'O_WRONLY',\n",
       " 'POSIX_FADV_DONTNEED',\n",
       " 'POSIX_FADV_NOREUSE',\n",
       " 'POSIX_FADV_NORMAL',\n",
       " 'POSIX_FADV_RANDOM',\n",
       " 'POSIX_FADV_SEQUENTIAL',\n",
       " 'POSIX_FADV_WILLNEED',\n",
       " 'POSIX_SPAWN_CLOSE',\n",
       " 'POSIX_SPAWN_DUP2',\n",
       " 'POSIX_SPAWN_OPEN',\n",
       " 'PRIO_PGRP',\n",
       " 'PRIO_PROCESS',\n",
       " 'PRIO_USER',\n",
       " 'P_ALL',\n",
       " 'P_NOWAIT',\n",
       " 'P_NOWAITO',\n",
       " 'P_PGID',\n",
       " 'P_PID',\n",
       " 'P_PIDFD',\n",
       " 'P_WAIT',\n",
       " 'PathLike',\n",
       " 'RTLD_DEEPBIND',\n",
       " 'RTLD_GLOBAL',\n",
       " 'RTLD_LAZY',\n",
       " 'RTLD_LOCAL',\n",
       " 'RTLD_NODELETE',\n",
       " 'RTLD_NOLOAD',\n",
       " 'RTLD_NOW',\n",
       " 'RWF_DSYNC',\n",
       " 'RWF_HIPRI',\n",
       " 'RWF_NOWAIT',\n",
       " 'RWF_SYNC',\n",
       " 'R_OK',\n",
       " 'SCHED_BATCH',\n",
       " 'SCHED_FIFO',\n",
       " 'SCHED_IDLE',\n",
       " 'SCHED_OTHER',\n",
       " 'SCHED_RESET_ON_FORK',\n",
       " 'SCHED_RR',\n",
       " 'SEEK_CUR',\n",
       " 'SEEK_DATA',\n",
       " 'SEEK_END',\n",
       " 'SEEK_HOLE',\n",
       " 'SEEK_SET',\n",
       " 'ST_APPEND',\n",
       " 'ST_MANDLOCK',\n",
       " 'ST_NOATIME',\n",
       " 'ST_NODEV',\n",
       " 'ST_NODIRATIME',\n",
       " 'ST_NOEXEC',\n",
       " 'ST_NOSUID',\n",
       " 'ST_RDONLY',\n",
       " 'ST_RELATIME',\n",
       " 'ST_SYNCHRONOUS',\n",
       " 'ST_WRITE',\n",
       " 'TMP_MAX',\n",
       " 'WCONTINUED',\n",
       " 'WCOREDUMP',\n",
       " 'WEXITED',\n",
       " 'WEXITSTATUS',\n",
       " 'WIFCONTINUED',\n",
       " 'WIFEXITED',\n",
       " 'WIFSIGNALED',\n",
       " 'WIFSTOPPED',\n",
       " 'WNOHANG',\n",
       " 'WNOWAIT',\n",
       " 'WSTOPPED',\n",
       " 'WSTOPSIG',\n",
       " 'WTERMSIG',\n",
       " 'WUNTRACED',\n",
       " 'W_OK',\n",
       " 'XATTR_CREATE',\n",
       " 'XATTR_REPLACE',\n",
       " 'XATTR_SIZE_MAX',\n",
       " 'X_OK',\n",
       " '_Environ',\n",
       " '__all__',\n",
       " '__builtins__',\n",
       " '__cached__',\n",
       " '__doc__',\n",
       " '__file__',\n",
       " '__loader__',\n",
       " '__name__',\n",
       " '__package__',\n",
       " '__spec__',\n",
       " '_check_methods',\n",
       " '_execvpe',\n",
       " '_exists',\n",
       " '_exit',\n",
       " '_fspath',\n",
       " '_fwalk',\n",
       " '_get_exports_list',\n",
       " '_spawnvef',\n",
       " '_walk',\n",
       " '_wrap_close',\n",
       " 'abc',\n",
       " 'abort',\n",
       " 'access',\n",
       " 'altsep',\n",
       " 'chdir',\n",
       " 'chmod',\n",
       " 'chown',\n",
       " 'chroot',\n",
       " 'close',\n",
       " 'closerange',\n",
       " 'confstr',\n",
       " 'confstr_names',\n",
       " 'copy_file_range',\n",
       " 'cpu_count',\n",
       " 'ctermid',\n",
       " 'curdir',\n",
       " 'defpath',\n",
       " 'device_encoding',\n",
       " 'devnull',\n",
       " 'dup',\n",
       " 'dup2',\n",
       " 'environ',\n",
       " 'environb',\n",
       " 'error',\n",
       " 'execl',\n",
       " 'execle',\n",
       " 'execlp',\n",
       " 'execlpe',\n",
       " 'execv',\n",
       " 'execve',\n",
       " 'execvp',\n",
       " 'execvpe',\n",
       " 'extsep',\n",
       " 'fchdir',\n",
       " 'fchmod',\n",
       " 'fchown',\n",
       " 'fdatasync',\n",
       " 'fdopen',\n",
       " 'fork',\n",
       " 'forkpty',\n",
       " 'fpathconf',\n",
       " 'fsdecode',\n",
       " 'fsencode',\n",
       " 'fspath',\n",
       " 'fstat',\n",
       " 'fstatvfs',\n",
       " 'fsync',\n",
       " 'ftruncate',\n",
       " 'fwalk',\n",
       " 'get_blocking',\n",
       " 'get_exec_path',\n",
       " 'get_inheritable',\n",
       " 'get_terminal_size',\n",
       " 'getcwd',\n",
       " 'getcwdb',\n",
       " 'getegid',\n",
       " 'getenv',\n",
       " 'getenvb',\n",
       " 'geteuid',\n",
       " 'getgid',\n",
       " 'getgrouplist',\n",
       " 'getgroups',\n",
       " 'getloadavg',\n",
       " 'getlogin',\n",
       " 'getpgid',\n",
       " 'getpgrp',\n",
       " 'getpid',\n",
       " 'getppid',\n",
       " 'getpriority',\n",
       " 'getrandom',\n",
       " 'getresgid',\n",
       " 'getresuid',\n",
       " 'getsid',\n",
       " 'getuid',\n",
       " 'getxattr',\n",
       " 'initgroups',\n",
       " 'isatty',\n",
       " 'kill',\n",
       " 'killpg',\n",
       " 'lchown',\n",
       " 'linesep',\n",
       " 'link',\n",
       " 'listdir',\n",
       " 'listxattr',\n",
       " 'lockf',\n",
       " 'lseek',\n",
       " 'lstat',\n",
       " 'major',\n",
       " 'makedev',\n",
       " 'makedirs',\n",
       " 'memfd_create',\n",
       " 'minor',\n",
       " 'mkdir',\n",
       " 'mkfifo',\n",
       " 'mknod',\n",
       " 'name',\n",
       " 'nice',\n",
       " 'open',\n",
       " 'openpty',\n",
       " 'pardir',\n",
       " 'path',\n",
       " 'pathconf',\n",
       " 'pathconf_names',\n",
       " 'pathsep',\n",
       " 'pidfd_open',\n",
       " 'pipe',\n",
       " 'pipe2',\n",
       " 'popen',\n",
       " 'posix_fadvise',\n",
       " 'posix_fallocate',\n",
       " 'posix_spawn',\n",
       " 'posix_spawnp',\n",
       " 'pread',\n",
       " 'preadv',\n",
       " 'putenv',\n",
       " 'pwrite',\n",
       " 'pwritev',\n",
       " 'read',\n",
       " 'readlink',\n",
       " 'readv',\n",
       " 'register_at_fork',\n",
       " 'remove',\n",
       " 'removedirs',\n",
       " 'removexattr',\n",
       " 'rename',\n",
       " 'renames',\n",
       " 'replace',\n",
       " 'rmdir',\n",
       " 'scandir',\n",
       " 'sched_get_priority_max',\n",
       " 'sched_get_priority_min',\n",
       " 'sched_getaffinity',\n",
       " 'sched_getparam',\n",
       " 'sched_getscheduler',\n",
       " 'sched_param',\n",
       " 'sched_rr_get_interval',\n",
       " 'sched_setaffinity',\n",
       " 'sched_setparam',\n",
       " 'sched_setscheduler',\n",
       " 'sched_yield',\n",
       " 'sendfile',\n",
       " 'sep',\n",
       " 'set_blocking',\n",
       " 'set_inheritable',\n",
       " 'setegid',\n",
       " 'seteuid',\n",
       " 'setgid',\n",
       " 'setgroups',\n",
       " 'setpgid',\n",
       " 'setpgrp',\n",
       " 'setpriority',\n",
       " 'setregid',\n",
       " 'setresgid',\n",
       " 'setresuid',\n",
       " 'setreuid',\n",
       " 'setsid',\n",
       " 'setuid',\n",
       " 'setxattr',\n",
       " 'spawnl',\n",
       " 'spawnle',\n",
       " 'spawnlp',\n",
       " 'spawnlpe',\n",
       " 'spawnv',\n",
       " 'spawnve',\n",
       " 'spawnvp',\n",
       " 'spawnvpe',\n",
       " 'st',\n",
       " 'stat',\n",
       " 'stat_result',\n",
       " 'statvfs',\n",
       " 'statvfs_result',\n",
       " 'strerror',\n",
       " 'supports_bytes_environ',\n",
       " 'supports_dir_fd',\n",
       " 'supports_effective_ids',\n",
       " 'supports_fd',\n",
       " 'supports_follow_symlinks',\n",
       " 'symlink',\n",
       " 'sync',\n",
       " 'sys',\n",
       " 'sysconf',\n",
       " 'sysconf_names',\n",
       " 'system',\n",
       " 'tcgetpgrp',\n",
       " 'tcsetpgrp',\n",
       " 'terminal_size',\n",
       " 'times',\n",
       " 'times_result',\n",
       " 'truncate',\n",
       " 'ttyname',\n",
       " 'umask',\n",
       " 'uname',\n",
       " 'uname_result',\n",
       " 'unlink',\n",
       " 'unsetenv',\n",
       " 'urandom',\n",
       " 'utime',\n",
       " 'wait',\n",
       " 'wait3',\n",
       " 'wait4',\n",
       " 'waitid',\n",
       " 'waitid_result',\n",
       " 'waitpid',\n",
       " 'waitstatus_to_exitcode',\n",
       " 'walk',\n",
       " 'write',\n",
       " 'writev']"
      ]
     },
     "execution_count": 6,
     "metadata": {},
     "output_type": "execute_result"
    }
   ],
   "source": [
    "dir(os)"
   ]
  },
  {
   "cell_type": "code",
   "execution_count": 7,
   "id": "integrated-measurement",
   "metadata": {},
   "outputs": [
    {
     "data": {
      "text/plain": [
       "'.'"
      ]
     },
     "execution_count": 7,
     "metadata": {},
     "output_type": "execute_result"
    }
   ],
   "source": [
    "os.curdir"
   ]
  },
  {
   "cell_type": "code",
   "execution_count": 8,
   "id": "geographic-sleeve",
   "metadata": {},
   "outputs": [
    {
     "name": "stdout",
     "output_type": "stream",
     "text": [
      "Help on built-in function chdir in module posix:\n",
      "\n",
      "chdir(path)\n",
      "    Change the current working directory to the specified path.\n",
      "    \n",
      "    path may always be specified as a string.\n",
      "    On some platforms, path may also be specified as an open file descriptor.\n",
      "      If this functionality is unavailable, using it raises an exception.\n",
      "\n"
     ]
    }
   ],
   "source": [
    "help(os.chdir)"
   ]
  },
  {
   "cell_type": "code",
   "execution_count": 9,
   "id": "searching-junior",
   "metadata": {},
   "outputs": [],
   "source": [
    "os.chdir('dir0')"
   ]
  },
  {
   "cell_type": "code",
   "execution_count": 11,
   "id": "floppy-rendering",
   "metadata": {},
   "outputs": [
    {
     "data": {
      "text/plain": [
       "'/home/gianluca/Dropbox/teaching_and_work/tv/Elementi di Informatica e Programmazione x crypocurrencies/EIP/code/dir0'"
      ]
     },
     "execution_count": 11,
     "metadata": {},
     "output_type": "execute_result"
    }
   ],
   "source": [
    "os.getcwd()"
   ]
  },
  {
   "cell_type": "markdown",
   "id": "failing-carnival",
   "metadata": {},
   "source": [
    "# Ricorsione"
   ]
  },
  {
   "cell_type": "code",
   "execution_count": 12,
   "id": "copyrighted-senegal",
   "metadata": {},
   "outputs": [],
   "source": [
    "def max_ric(a):\n",
    "    '''\n",
    "    Assunzione: a è una sequanza numerica\n",
    "    '''\n",
    "    if len(a) == 1:\n",
    "        return a[0]\n",
    "    else:\n",
    "        m = max_ric(a[1:])\n",
    "        if m > a[0]:\n",
    "            return m\n",
    "        else:\n",
    "            return a[0]"
   ]
  },
  {
   "cell_type": "code",
   "execution_count": 13,
   "id": "laden-certificate",
   "metadata": {},
   "outputs": [
    {
     "data": {
      "text/plain": [
       "10"
      ]
     },
     "execution_count": 13,
     "metadata": {},
     "output_type": "execute_result"
    }
   ],
   "source": [
    "max_ric([2,1,9,8,3,1,0,4,10,4,3])"
   ]
  },
  {
   "cell_type": "code",
   "execution_count": 14,
   "id": "eleven-visibility",
   "metadata": {},
   "outputs": [],
   "source": [
    "def max_ric(a):\n",
    "    if len(a) == 1:\n",
    "        return a[0]\n",
    "    if len(a) == 0:\n",
    "        return None\n",
    "    c = len(a)//2\n",
    "    m1 = max_ric(a[:c])\n",
    "    m2 = max_ric(a[c:])\n",
    "    if m1 > m2:\n",
    "        return m1\n",
    "    else:\n",
    "        return m2"
   ]
  },
  {
   "cell_type": "code",
   "execution_count": 15,
   "id": "banner-division",
   "metadata": {},
   "outputs": [
    {
     "data": {
      "text/plain": [
       "10"
      ]
     },
     "execution_count": 15,
     "metadata": {},
     "output_type": "execute_result"
    }
   ],
   "source": [
    "max_ric([2,1,9,8,3,1,0,4,10,4,3])"
   ]
  },
  {
   "cell_type": "markdown",
   "id": "neither-machine",
   "metadata": {},
   "source": [
    "# Esercizio per casa\n",
    "\n",
    "Scrivere una funzione ricorsiva che prende in input una stringa e la stampa al contrario.\n",
    "\n",
    "*Suggerimento*. Potrebbe essere utile dover eseguire più stampe sulla stessa riga di output. Allo scopo utilizzare, nella funzione `print`, il parametro `end=''` che impedisce alla funzione di andare a capo dopo aver stampato. Ad esempio\n",
    "\n",
    "```\n",
    "    print('stringa 1', end='')\n",
    "    print('stringa 2')\n",
    "```\n",
    "\n",
    "Stampa `stringa 1stringa2`."
   ]
  },
  {
   "cell_type": "code",
   "execution_count": null,
   "id": "blind-dodge",
   "metadata": {},
   "outputs": [],
   "source": []
  }
 ],
 "metadata": {
  "kernelspec": {
   "display_name": "Python 3",
   "language": "python",
   "name": "python3"
  },
  "language_info": {
   "codemirror_mode": {
    "name": "ipython",
    "version": 3
   },
   "file_extension": ".py",
   "mimetype": "text/x-python",
   "name": "python",
   "nbconvert_exporter": "python",
   "pygments_lexer": "ipython3",
   "version": "3.9.2"
  }
 },
 "nbformat": 4,
 "nbformat_minor": 5
}
