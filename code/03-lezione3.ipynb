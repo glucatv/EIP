{
 "cells": [
  {
   "cell_type": "markdown",
   "id": "tracked-citizenship",
   "metadata": {},
   "source": [
    "### Esercizio per casa\n",
    "\n",
    "Scrivere una funzione che prenda in input due stringhe e le stampi una in verticale, l'altra in orizzontale incrociandole in un carattere comune. Nel caso in cui non abbiano caratteri in comune, stampi un avviso.\n",
    "\n",
    "Esempio: se le stringhe sono `angelo` e `programmazione` la funzione deve stampare qualcosa del genere\n",
    "\n",
    "```\n",
    "   a\n",
    "   n  \n",
    "programmazione\n",
    "   e\n",
    "   l\n",
    "   o\n",
    "```\n",
    "\n",
    "#### Soluzione\n",
    "\n",
    "Sia `a` e `b` le due stringhe. Sia `p_a` l'indice del carattere comune in `a`, e `p_b` l'indice del carattere comune in `b`.\n",
    "\n",
    "`p_b` è il numero di spazi che deve precedere ogni lettera di `a` (che stamperemo in verticale);\n",
    "\n",
    "`p_a` è la riga su cui stamperemo `b` senza spazi che la precedono;"
   ]
  },
  {
   "cell_type": "code",
   "execution_count": 1,
   "id": "brilliant-creation",
   "metadata": {},
   "outputs": [],
   "source": [
    "def incrocia_stringhe( a, b):\n",
    "    p_a = 0\n",
    "\n",
    "    while p_a < len(a):\n",
    "        c = a[p_a]\n",
    "        # c è in b? ed in che posizione?\n",
    "        p_b = 0\n",
    "        while p_b < len(b):\n",
    "            if c == b[p_b]:\n",
    "                # Trovato!\n",
    "                # eseguire la stampa\n",
    "                print('--------------------------------------------------')\n",
    "                print('trovatata intesezione su ', c, 'in pos. ', p_a, p_b)\n",
    "                print()\n",
    "                r = 0\n",
    "                while r < len(a): # per ogni riga\n",
    "                    if r != p_a:\n",
    "                        print(' '*p_b+a[r])\n",
    "                    else:\n",
    "                        print(b)\n",
    "                    r += 1\n",
    "            p_b += 1\n",
    "        p_a += 1"
   ]
  },
  {
   "cell_type": "code",
   "execution_count": 2,
   "id": "convertible-detroit",
   "metadata": {},
   "outputs": [
    {
     "name": "stdout",
     "output_type": "stream",
     "text": [
      "--------------------------------------------------\n",
      "trovatata intesezione su  n in pos.  1 12\n",
      "\n",
      "            A\n",
      "Programmazione\n",
      "            g\n",
      "            e\n",
      "            l\n",
      "            o\n",
      "--------------------------------------------------\n",
      "trovatata intesezione su  g in pos.  2 3\n",
      "\n",
      "   A\n",
      "   n\n",
      "Programmazione\n",
      "   e\n",
      "   l\n",
      "   o\n",
      "--------------------------------------------------\n",
      "trovatata intesezione su  e in pos.  3 13\n",
      "\n",
      "             A\n",
      "             n\n",
      "             g\n",
      "Programmazione\n",
      "             l\n",
      "             o\n",
      "--------------------------------------------------\n",
      "trovatata intesezione su  o in pos.  5 2\n",
      "\n",
      "  A\n",
      "  n\n",
      "  g\n",
      "  e\n",
      "  l\n",
      "Programmazione\n",
      "--------------------------------------------------\n",
      "trovatata intesezione su  o in pos.  5 11\n",
      "\n",
      "           A\n",
      "           n\n",
      "           g\n",
      "           e\n",
      "           l\n",
      "Programmazione\n"
     ]
    }
   ],
   "source": [
    "incrocia_stringhe('Angelo', 'Programmazione')"
   ]
  },
  {
   "cell_type": "markdown",
   "id": "dedicated-handling",
   "metadata": {},
   "source": [
    "Soluzione alternativa che interrompe l'esecuzione non appena viene trovata una intersezione."
   ]
  },
  {
   "cell_type": "code",
   "execution_count": 3,
   "id": "impaired-thomson",
   "metadata": {},
   "outputs": [],
   "source": [
    "def incrocia_stringhe( a, b):\n",
    "    p_a = 0\n",
    "\n",
    "    while p_a < len(a):\n",
    "        c = a[p_a]\n",
    "        # c è in b? ed in che posizione?\n",
    "        p_b = 0\n",
    "        while p_b < len(b):\n",
    "            if c == b[p_b]:\n",
    "                # Trovato!\n",
    "                # eseguire la stampa\n",
    "                print('--------------------------------------------------')\n",
    "                print('trovatata intesezione su ', c, 'in pos. ', p_a, p_b)\n",
    "                print()\n",
    "                r = 0\n",
    "                while r < len(a): # per ogni riga\n",
    "                    if r != p_a:\n",
    "                        print(' '*p_b+a[r])\n",
    "                    else:\n",
    "                        print(b)\n",
    "                    r += 1\n",
    "                # interrompere l'esecuzione\n",
    "                return\n",
    "            p_b += 1\n",
    "        p_a += 1"
   ]
  },
  {
   "cell_type": "code",
   "execution_count": 4,
   "id": "circular-medline",
   "metadata": {},
   "outputs": [
    {
     "name": "stdout",
     "output_type": "stream",
     "text": [
      "--------------------------------------------------\n",
      "trovatata intesezione su  n in pos.  1 12\n",
      "\n",
      "            A\n",
      "Programmazione\n",
      "            g\n",
      "            e\n",
      "            l\n",
      "            o\n"
     ]
    }
   ],
   "source": [
    "incrocia_stringhe('Angelo', 'Programmazione')"
   ]
  },
  {
   "cell_type": "markdown",
   "id": "false-standing",
   "metadata": {},
   "source": [
    "L'istruzione `break`"
   ]
  },
  {
   "cell_type": "code",
   "execution_count": 5,
   "id": "accomplished-needle",
   "metadata": {},
   "outputs": [
    {
     "name": "stdout",
     "output_type": "stream",
     "text": [
      "1\n",
      "2\n",
      "3\n",
      "1\n",
      "2\n",
      "3\n",
      "1\n",
      "2\n",
      "3\n"
     ]
    }
   ],
   "source": [
    "for x in 'abc':\n",
    "    for i in range(1, 10):\n",
    "        print(i)\n",
    "        if i % 3 == 0:\n",
    "            break"
   ]
  },
  {
   "cell_type": "markdown",
   "id": "olive-procurement",
   "metadata": {},
   "source": [
    "Soluzione alternativa che usa `break` ed una variabile *spia*."
   ]
  },
  {
   "cell_type": "code",
   "execution_count": 6,
   "id": "motivated-dominant",
   "metadata": {},
   "outputs": [],
   "source": [
    "def incrocia_stringhe( a, b):\n",
    "    p_a = 0\n",
    "    trovato = False\n",
    "    while p_a < len(a):\n",
    "        c = a[p_a]\n",
    "        # c è in b? ed in che posizione?\n",
    "        p_b = 0\n",
    "        while p_b < len(b):\n",
    "            if c == b[p_b]:\n",
    "                # Trovato!\n",
    "                # eseguire la stampa\n",
    "                print('--------------------------------------------------')\n",
    "                print('trovatata intesezione su ', c, 'in pos. ', p_a, p_b)\n",
    "                print()\n",
    "                r = 0\n",
    "                while r < len(a): # per ogni riga\n",
    "                    if r != p_a:\n",
    "                        print(' '*p_b+a[r])\n",
    "                    else:\n",
    "                        print(b)\n",
    "                    r += 1\n",
    "                # interrompere l'esecuzione\n",
    "                trovato = True\n",
    "            p_b += 1\n",
    "        if trovato == True:\n",
    "            break\n",
    "        p_a += 1"
   ]
  },
  {
   "cell_type": "code",
   "execution_count": 7,
   "id": "outdoor-count",
   "metadata": {},
   "outputs": [
    {
     "name": "stdout",
     "output_type": "stream",
     "text": [
      "--------------------------------------------------\n",
      "trovatata intesezione su  n in pos.  1 12\n",
      "\n",
      "            A\n",
      "Programmazione\n",
      "            g\n",
      "            e\n",
      "            l\n",
      "            o\n"
     ]
    }
   ],
   "source": [
    "incrocia_stringhe('Angelo', 'Programmazione')"
   ]
  },
  {
   "cell_type": "markdown",
   "id": "saved-blank",
   "metadata": {},
   "source": [
    "## Operatori logici"
   ]
  },
  {
   "cell_type": "code",
   "execution_count": 8,
   "id": "sticky-digit",
   "metadata": {},
   "outputs": [
    {
     "name": "stdout",
     "output_type": "stream",
     "text": [
      "True\n",
      "True\n"
     ]
    }
   ],
   "source": [
    "x, y = 10, 4\n",
    "\n",
    "z = 6\n",
    "\n",
    "print(x != y)\n",
    "print(x > z)"
   ]
  },
  {
   "cell_type": "markdown",
   "id": "little-article",
   "metadata": {},
   "source": [
    "`and`"
   ]
  },
  {
   "cell_type": "code",
   "execution_count": 9,
   "id": "vietnamese-revolution",
   "metadata": {},
   "outputs": [
    {
     "name": "stdout",
     "output_type": "stream",
     "text": [
      "No\n"
     ]
    }
   ],
   "source": [
    "if x != y and x < z:\n",
    "    print('Si')\n",
    "else:\n",
    "    print('No')"
   ]
  },
  {
   "cell_type": "markdown",
   "id": "assured-impact",
   "metadata": {},
   "source": [
    "`or`"
   ]
  },
  {
   "cell_type": "code",
   "execution_count": 10,
   "id": "blank-trading",
   "metadata": {},
   "outputs": [
    {
     "data": {
      "text/plain": [
       "True"
      ]
     },
     "execution_count": 10,
     "metadata": {},
     "output_type": "execute_result"
    }
   ],
   "source": [
    "x != y or x < z"
   ]
  },
  {
   "cell_type": "code",
   "execution_count": 11,
   "id": "south-mother",
   "metadata": {},
   "outputs": [
    {
     "data": {
      "text/plain": [
       "False"
      ]
     },
     "execution_count": 11,
     "metadata": {},
     "output_type": "execute_result"
    }
   ],
   "source": [
    "x == y or x < z"
   ]
  },
  {
   "cell_type": "markdown",
   "id": "bridal-jungle",
   "metadata": {},
   "source": [
    "`not`"
   ]
  },
  {
   "cell_type": "code",
   "execution_count": 12,
   "id": "planned-conditioning",
   "metadata": {},
   "outputs": [
    {
     "data": {
      "text/plain": [
       "True"
      ]
     },
     "execution_count": 12,
     "metadata": {},
     "output_type": "execute_result"
    }
   ],
   "source": [
    "not x == y"
   ]
  },
  {
   "cell_type": "markdown",
   "id": "relative-weapon",
   "metadata": {},
   "source": [
    "Altra soluzione che usa la variabile nelle condizioni del `while`"
   ]
  },
  {
   "cell_type": "code",
   "execution_count": 13,
   "id": "qualified-classification",
   "metadata": {},
   "outputs": [],
   "source": [
    "def incrocia_stringhe( a, b):\n",
    "    p_a = 0\n",
    "    trovato = False\n",
    "    while p_a < len(a) and not trovato:\n",
    "        c = a[p_a]\n",
    "        # c è in b? ed in che posizione?\n",
    "        p_b = 0\n",
    "        while p_b < len(b) and not trovato:\n",
    "            if c == b[p_b]:\n",
    "                # Trovato!\n",
    "                # eseguire la stampa\n",
    "                print('--------------------------------------------------')\n",
    "                print('trovatata intesezione su ', c, 'in pos. ', p_a, p_b)\n",
    "                print()\n",
    "                r = 0\n",
    "                while r < len(a): # per ogni riga\n",
    "                    if r != p_a:\n",
    "                        print(' '*p_b+a[r])\n",
    "                    else:\n",
    "                        print(b)\n",
    "                    r += 1\n",
    "                # interrompere l'esecuzione\n",
    "                trovato = True\n",
    "            p_b += 1\n",
    "        p_a += 1"
   ]
  },
  {
   "cell_type": "code",
   "execution_count": 14,
   "id": "close-surveillance",
   "metadata": {},
   "outputs": [
    {
     "name": "stdout",
     "output_type": "stream",
     "text": [
      "--------------------------------------------------\n",
      "trovatata intesezione su  n in pos.  1 7\n",
      "\n",
      "       A\n",
      "Programnazione\n",
      "       g\n",
      "       e\n",
      "       l\n",
      "       o\n"
     ]
    }
   ],
   "source": [
    "incrocia_stringhe('Angelo', 'Programnazione')"
   ]
  },
  {
   "cell_type": "markdown",
   "id": "welsh-sterling",
   "metadata": {},
   "source": [
    "# Metodi"
   ]
  },
  {
   "cell_type": "code",
   "execution_count": 15,
   "id": "fatal-basement",
   "metadata": {},
   "outputs": [],
   "source": [
    "a = 'programmazione'"
   ]
  },
  {
   "cell_type": "code",
   "execution_count": 16,
   "id": "drawn-structure",
   "metadata": {},
   "outputs": [
    {
     "data": {
      "text/plain": [
       "str"
      ]
     },
     "execution_count": 16,
     "metadata": {},
     "output_type": "execute_result"
    }
   ],
   "source": [
    "type(a)"
   ]
  },
  {
   "cell_type": "code",
   "execution_count": 17,
   "id": "abstract-audit",
   "metadata": {},
   "outputs": [
    {
     "data": {
      "text/plain": [
       "'Programmazione'"
      ]
     },
     "execution_count": 17,
     "metadata": {},
     "output_type": "execute_result"
    }
   ],
   "source": [
    "a.capitalize()"
   ]
  },
  {
   "cell_type": "code",
   "execution_count": 18,
   "id": "bound-madagascar",
   "metadata": {},
   "outputs": [
    {
     "name": "stdout",
     "output_type": "stream",
     "text": [
      "programmazione\n"
     ]
    }
   ],
   "source": [
    "print(a)"
   ]
  },
  {
   "cell_type": "code",
   "execution_count": 19,
   "id": "digital-prescription",
   "metadata": {},
   "outputs": [
    {
     "data": {
      "text/plain": [
       "-1"
      ]
     },
     "execution_count": 19,
     "metadata": {},
     "output_type": "execute_result"
    }
   ],
   "source": [
    "a.find('x')"
   ]
  },
  {
   "cell_type": "code",
   "execution_count": 20,
   "id": "excessive-pregnancy",
   "metadata": {},
   "outputs": [
    {
     "data": {
      "text/plain": [
       "True"
      ]
     },
     "execution_count": 20,
     "metadata": {},
     "output_type": "execute_result"
    }
   ],
   "source": [
    "a.islower()"
   ]
  },
  {
   "cell_type": "code",
   "execution_count": 21,
   "id": "shaped-roller",
   "metadata": {},
   "outputs": [
    {
     "data": {
      "text/plain": [
       "'progrAAMMmazione'"
      ]
     },
     "execution_count": 21,
     "metadata": {},
     "output_type": "execute_result"
    }
   ],
   "source": [
    "a.replace('am', 'AAMM')"
   ]
  },
  {
   "cell_type": "code",
   "execution_count": 22,
   "id": "scientific-spring",
   "metadata": {},
   "outputs": [
    {
     "data": {
      "text/plain": [
       "'PROGRAMMAZIONE'"
      ]
     },
     "execution_count": 22,
     "metadata": {},
     "output_type": "execute_result"
    }
   ],
   "source": [
    "a.upper()"
   ]
  },
  {
   "cell_type": "markdown",
   "id": "amended-breakfast",
   "metadata": {},
   "source": [
    "funzioni `dir` ed `help`"
   ]
  },
  {
   "cell_type": "code",
   "execution_count": 23,
   "id": "chubby-independence",
   "metadata": {},
   "outputs": [
    {
     "name": "stdout",
     "output_type": "stream",
     "text": [
      "Help on built-in function upper:\n",
      "\n",
      "upper() method of builtins.str instance\n",
      "    Return a copy of the string converted to uppercase.\n",
      "\n"
     ]
    }
   ],
   "source": [
    "help(a.upper)"
   ]
  },
  {
   "cell_type": "code",
   "execution_count": 24,
   "id": "adult-cruise",
   "metadata": {},
   "outputs": [
    {
     "data": {
      "text/plain": [
       "['__add__',\n",
       " '__class__',\n",
       " '__contains__',\n",
       " '__delattr__',\n",
       " '__dir__',\n",
       " '__doc__',\n",
       " '__eq__',\n",
       " '__format__',\n",
       " '__ge__',\n",
       " '__getattribute__',\n",
       " '__getitem__',\n",
       " '__getnewargs__',\n",
       " '__gt__',\n",
       " '__hash__',\n",
       " '__init__',\n",
       " '__init_subclass__',\n",
       " '__iter__',\n",
       " '__le__',\n",
       " '__len__',\n",
       " '__lt__',\n",
       " '__mod__',\n",
       " '__mul__',\n",
       " '__ne__',\n",
       " '__new__',\n",
       " '__reduce__',\n",
       " '__reduce_ex__',\n",
       " '__repr__',\n",
       " '__rmod__',\n",
       " '__rmul__',\n",
       " '__setattr__',\n",
       " '__sizeof__',\n",
       " '__str__',\n",
       " '__subclasshook__',\n",
       " 'capitalize',\n",
       " 'casefold',\n",
       " 'center',\n",
       " 'count',\n",
       " 'encode',\n",
       " 'endswith',\n",
       " 'expandtabs',\n",
       " 'find',\n",
       " 'format',\n",
       " 'format_map',\n",
       " 'index',\n",
       " 'isalnum',\n",
       " 'isalpha',\n",
       " 'isascii',\n",
       " 'isdecimal',\n",
       " 'isdigit',\n",
       " 'isidentifier',\n",
       " 'islower',\n",
       " 'isnumeric',\n",
       " 'isprintable',\n",
       " 'isspace',\n",
       " 'istitle',\n",
       " 'isupper',\n",
       " 'join',\n",
       " 'ljust',\n",
       " 'lower',\n",
       " 'lstrip',\n",
       " 'maketrans',\n",
       " 'partition',\n",
       " 'removeprefix',\n",
       " 'removesuffix',\n",
       " 'replace',\n",
       " 'rfind',\n",
       " 'rindex',\n",
       " 'rjust',\n",
       " 'rpartition',\n",
       " 'rsplit',\n",
       " 'rstrip',\n",
       " 'split',\n",
       " 'splitlines',\n",
       " 'startswith',\n",
       " 'strip',\n",
       " 'swapcase',\n",
       " 'title',\n",
       " 'translate',\n",
       " 'upper',\n",
       " 'zfill']"
      ]
     },
     "execution_count": 24,
     "metadata": {},
     "output_type": "execute_result"
    }
   ],
   "source": [
    "dir(a)"
   ]
  },
  {
   "cell_type": "code",
   "execution_count": 25,
   "id": "bearing-latin",
   "metadata": {},
   "outputs": [
    {
     "name": "stdout",
     "output_type": "stream",
     "text": [
      "Help on built-in function split:\n",
      "\n",
      "split(sep=None, maxsplit=-1) method of builtins.str instance\n",
      "    Return a list of the words in the string, using sep as the delimiter string.\n",
      "    \n",
      "    sep\n",
      "      The delimiter according which to split the string.\n",
      "      None (the default value) means split according to any whitespace,\n",
      "      and discard empty strings from the result.\n",
      "    maxsplit\n",
      "      Maximum number of splits to do.\n",
      "      -1 (the default value) means no limit.\n",
      "\n"
     ]
    }
   ],
   "source": [
    "help(a.split)"
   ]
  },
  {
   "cell_type": "markdown",
   "id": "parliamentary-latter",
   "metadata": {},
   "source": [
    "# Liste"
   ]
  },
  {
   "cell_type": "code",
   "execution_count": 26,
   "id": "consistent-reverse",
   "metadata": {},
   "outputs": [],
   "source": [
    "a = [ 'uno', 3.1415, True, [4, 8] ]\n",
    "b = [] #  lista vuota"
   ]
  },
  {
   "cell_type": "code",
   "execution_count": 27,
   "id": "improving-computer",
   "metadata": {},
   "outputs": [
    {
     "name": "stdout",
     "output_type": "stream",
     "text": [
      "3.1415\n",
      "['uno', 3.1415]\n",
      "[[4, 8], True, 3.1415, 'uno']\n"
     ]
    }
   ],
   "source": [
    "print(a[1])   # indicizzazione\n",
    "print(a[:2])  # slicing\n",
    "print(a[::-1])"
   ]
  },
  {
   "cell_type": "markdown",
   "id": "based-creation",
   "metadata": {},
   "source": [
    "*mutabilità delle liste*"
   ]
  },
  {
   "cell_type": "code",
   "execution_count": 28,
   "id": "pressed-regulation",
   "metadata": {},
   "outputs": [
    {
     "name": "stdout",
     "output_type": "stream",
     "text": [
      "[1, 3.1415, True, [4, 8]]\n"
     ]
    }
   ],
   "source": [
    "a[0] = 1\n",
    "print(a)"
   ]
  },
  {
   "cell_type": "code",
   "execution_count": 29,
   "id": "narrative-visiting",
   "metadata": {},
   "outputs": [
    {
     "data": {
      "text/plain": [
       "4"
      ]
     },
     "execution_count": 29,
     "metadata": {},
     "output_type": "execute_result"
    }
   ],
   "source": [
    "len(a)"
   ]
  },
  {
   "cell_type": "code",
   "execution_count": 30,
   "id": "north-disaster",
   "metadata": {},
   "outputs": [],
   "source": [
    "a.append('stringa') # aggiunge un elemento in fono alla lista"
   ]
  },
  {
   "cell_type": "code",
   "execution_count": 31,
   "id": "endangered-drama",
   "metadata": {},
   "outputs": [
    {
     "name": "stdout",
     "output_type": "stream",
     "text": [
      "[1, 3.1415, True, [4, 8], 'stringa']\n"
     ]
    }
   ],
   "source": [
    "print(a)"
   ]
  },
  {
   "cell_type": "code",
   "execution_count": 32,
   "id": "temporal-celebration",
   "metadata": {},
   "outputs": [
    {
     "name": "stdout",
     "output_type": "stream",
     "text": [
      "Help on built-in function insert:\n",
      "\n",
      "insert(index, object, /) method of builtins.list instance\n",
      "    Insert object before index.\n",
      "\n"
     ]
    }
   ],
   "source": [
    "help(a.insert)"
   ]
  },
  {
   "cell_type": "code",
   "execution_count": 33,
   "id": "suburban-folks",
   "metadata": {},
   "outputs": [],
   "source": [
    "a.insert(2, 'nuovo elemento')"
   ]
  },
  {
   "cell_type": "code",
   "execution_count": 34,
   "id": "tracked-violation",
   "metadata": {},
   "outputs": [
    {
     "name": "stdout",
     "output_type": "stream",
     "text": [
      "[1, 3.1415, 'nuovo elemento', True, [4, 8], 'stringa']\n"
     ]
    }
   ],
   "source": [
    "print(a)"
   ]
  },
  {
   "cell_type": "code",
   "execution_count": 35,
   "id": "former-tunisia",
   "metadata": {},
   "outputs": [
    {
     "name": "stdout",
     "output_type": "stream",
     "text": [
      "Help on built-in function remove:\n",
      "\n",
      "remove(value, /) method of builtins.list instance\n",
      "    Remove first occurrence of value.\n",
      "    \n",
      "    Raises ValueError if the value is not present.\n",
      "\n"
     ]
    }
   ],
   "source": [
    "help(a.remove)"
   ]
  },
  {
   "cell_type": "code",
   "execution_count": 36,
   "id": "antique-continuity",
   "metadata": {},
   "outputs": [],
   "source": [
    "del(a[3]) # cancellazione di un elemento data la posizione"
   ]
  },
  {
   "cell_type": "code",
   "execution_count": 37,
   "id": "floral-ecuador",
   "metadata": {},
   "outputs": [
    {
     "name": "stdout",
     "output_type": "stream",
     "text": [
      "[1, 3.1415, 'nuovo elemento', [4, 8], 'stringa']\n"
     ]
    }
   ],
   "source": [
    "print(a)"
   ]
  },
  {
   "cell_type": "code",
   "execution_count": 38,
   "id": "ceramic-capital",
   "metadata": {},
   "outputs": [
    {
     "name": "stdout",
     "output_type": "stream",
     "text": [
      "1\n",
      "3.1415\n",
      "nuovo elemento\n",
      "[4, 8]\n",
      "stringa\n"
     ]
    }
   ],
   "source": [
    "for e in  a:\n",
    "    print(e)"
   ]
  },
  {
   "cell_type": "code",
   "execution_count": 39,
   "id": "potential-armenia",
   "metadata": {},
   "outputs": [
    {
     "data": {
      "text/plain": [
       "False"
      ]
     },
     "execution_count": 39,
     "metadata": {},
     "output_type": "execute_result"
    }
   ],
   "source": [
    "0 in a"
   ]
  },
  {
   "cell_type": "code",
   "execution_count": 40,
   "id": "neural-version",
   "metadata": {},
   "outputs": [
    {
     "name": "stdout",
     "output_type": "stream",
     "text": [
      "Help on built-in function index:\n",
      "\n",
      "index(value, start=0, stop=9223372036854775807, /) method of builtins.list instance\n",
      "    Return first index of value.\n",
      "    \n",
      "    Raises ValueError if the value is not present.\n",
      "\n"
     ]
    }
   ],
   "source": [
    "help(a.index)"
   ]
  },
  {
   "cell_type": "code",
   "execution_count": 41,
   "id": "female-clone",
   "metadata": {},
   "outputs": [
    {
     "data": {
      "text/plain": [
       "2"
      ]
     },
     "execution_count": 41,
     "metadata": {},
     "output_type": "execute_result"
    }
   ],
   "source": [
    "a.index('nuovo elemento')"
   ]
  },
  {
   "cell_type": "code",
   "execution_count": 42,
   "id": "finite-berkeley",
   "metadata": {},
   "outputs": [
    {
     "name": "stdout",
     "output_type": "stream",
     "text": [
      "[1, 3.1415, 'nuovo elemento', [4, 8], 'stringa']\n"
     ]
    }
   ],
   "source": [
    "print(a)"
   ]
  },
  {
   "cell_type": "markdown",
   "id": "smart-launch",
   "metadata": {},
   "source": [
    "**aliasing**"
   ]
  },
  {
   "cell_type": "code",
   "execution_count": 43,
   "id": "shaped-contract",
   "metadata": {},
   "outputs": [],
   "source": [
    "b = a"
   ]
  },
  {
   "cell_type": "code",
   "execution_count": 44,
   "id": "military-burden",
   "metadata": {},
   "outputs": [
    {
     "data": {
      "text/plain": [
       "list"
      ]
     },
     "execution_count": 44,
     "metadata": {},
     "output_type": "execute_result"
    }
   ],
   "source": [
    "type(b)"
   ]
  },
  {
   "cell_type": "code",
   "execution_count": 45,
   "id": "mobile-preference",
   "metadata": {},
   "outputs": [
    {
     "name": "stdout",
     "output_type": "stream",
     "text": [
      "[4, 3.1415, 'nuovo elemento', [4, 8], 'stringa']\n"
     ]
    }
   ],
   "source": [
    "a[0] = 4\n",
    "print(a)"
   ]
  },
  {
   "cell_type": "code",
   "execution_count": 46,
   "id": "obvious-beaver",
   "metadata": {},
   "outputs": [
    {
     "name": "stdout",
     "output_type": "stream",
     "text": [
      "[4, 3.1415, 'nuovo elemento', [4, 8], 'stringa']\n"
     ]
    }
   ],
   "source": [
    "print(b)"
   ]
  },
  {
   "cell_type": "code",
   "execution_count": 47,
   "id": "after-giant",
   "metadata": {},
   "outputs": [
    {
     "name": "stdout",
     "output_type": "stream",
     "text": [
      "8\n"
     ]
    }
   ],
   "source": [
    "def max_on_list(a): # a è un alias della lista in input\n",
    "    ## trova il massimo, assumo che a contenga numeri\n",
    "    m = a[0]\n",
    "    for x in a:\n",
    "        if x > m:\n",
    "            m = x\n",
    "    return m\n",
    "\n",
    "L = [2,1,4,3,6,5,4,8,1]\n",
    "print(max_on_list(L))"
   ]
  },
  {
   "cell_type": "markdown",
   "id": "hearing-veteran",
   "metadata": {},
   "source": [
    "**clonazione**"
   ]
  },
  {
   "cell_type": "code",
   "execution_count": 48,
   "id": "hourly-spirituality",
   "metadata": {},
   "outputs": [
    {
     "data": {
      "text/plain": [
       "[4, 3.1415, 'nuovo elemento', [4, 8], 'stringa']"
      ]
     },
     "execution_count": 48,
     "metadata": {},
     "output_type": "execute_result"
    }
   ],
   "source": [
    "a[0:len(a)]"
   ]
  },
  {
   "cell_type": "code",
   "execution_count": 49,
   "id": "accepting-ranking",
   "metadata": {},
   "outputs": [
    {
     "data": {
      "text/plain": [
       "[4, 3.1415, 'nuovo elemento', [4, 8], 'stringa']"
      ]
     },
     "execution_count": 49,
     "metadata": {},
     "output_type": "execute_result"
    }
   ],
   "source": [
    "a"
   ]
  },
  {
   "cell_type": "markdown",
   "id": "russian-novelty",
   "metadata": {},
   "source": [
    "Clonazione al secondo livello"
   ]
  },
  {
   "cell_type": "code",
   "execution_count": 50,
   "id": "veterinary-leave",
   "metadata": {},
   "outputs": [],
   "source": [
    "b = []\n",
    "for x in a:\n",
    "    if type(x) == list:\n",
    "        b.append(x[:])\n",
    "    else:\n",
    "        b.append(x)"
   ]
  },
  {
   "cell_type": "markdown",
   "id": "reliable-being",
   "metadata": {},
   "source": [
    "# Esercizi per casa\n",
    "\n",
    "**1**. Implementare la funzione `incrocia_stringhe` utilizzando il metodo `find`.\n",
    "\n",
    "**2**. Scrivere una funzione che prende in input una lista di stringhe e le stampa, una per ogni riga, allineandole al centro.\n",
    "\n",
    "*Esempio*. Se la lista in input è `['programma', 'algoritmo', 'somma', 'max', 'iterazione', 'la']`, la funzione deve stampare\n",
    "\n",
    "```\n",
    "  programma\n",
    "  algoritmo\n",
    "    somma\n",
    "     max\n",
    "cancellazione\n",
    "     la\n",
    "```\n",
    "\n",
    "**3**. Scrivere una funzione che prende in input due liste e ne restituisce una terza che contiene tutti gli elementi che si trovano nell'intersezione delle due liste in input."
   ]
  },
  {
   "cell_type": "code",
   "execution_count": null,
   "id": "inside-albuquerque",
   "metadata": {},
   "outputs": [],
   "source": []
  }
 ],
 "metadata": {
  "kernelspec": {
   "display_name": "Python 3",
   "language": "python",
   "name": "python3"
  },
  "language_info": {
   "codemirror_mode": {
    "name": "ipython",
    "version": 3
   },
   "file_extension": ".py",
   "mimetype": "text/x-python",
   "name": "python",
   "nbconvert_exporter": "python",
   "pygments_lexer": "ipython3",
   "version": "3.9.2"
  }
 },
 "nbformat": 4,
 "nbformat_minor": 5
}
