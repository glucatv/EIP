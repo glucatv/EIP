{
 "cells": [
  {
   "cell_type": "markdown",
   "id": "joined-capitol",
   "metadata": {},
   "source": [
    "### Esercizio per casa\n",
    "\n",
    "Scrivere una funzione che prenda in input due stringhe e le stampi una in verticale, l'altra in orizzontale incrociandole in un carattere comune. Nel caso in cui non abbiano caratteri in comune, stampi un avviso.\n",
    "\n",
    "Esempio: se le stringhe sono `angelo` e `programmazione` la funzione deve stampare qualcosa del genere\n",
    "\n",
    "```\n",
    "   a\n",
    "   n  \n",
    "programmazione\n",
    "   e\n",
    "   l\n",
    "   o\n",
    "```\n",
    "\n",
    "#### Soluzione\n",
    "\n",
    "Sia `a` e `b` le due stringhe. Sia `p_a` l'indice del carattere comune in `a`, e `p_b` l'indice del carattere comune in `b`.\n",
    "\n",
    "`p_b` è il numero di spazi che deve precedere ogni lettera di `a` (che stamperemo in verticale);\n",
    "\n",
    "`p_a` è la riga su cui stamperemo `b` senza spazi che la precedono;"
   ]
  },
  {
   "cell_type": "code",
   "execution_count": 2,
   "id": "circular-prototype",
   "metadata": {},
   "outputs": [],
   "source": [
    "def incrocia_stringhe( a, b):\n",
    "    p_a = 0\n",
    "\n",
    "    while p_a < len(a):\n",
    "        c = a[p_a]\n",
    "        # c è in b? ed in che posizione?\n",
    "        p_b = 0\n",
    "        while p_b < len(b):\n",
    "            if c == b[p_b]:\n",
    "                # Trovato!\n",
    "                # eseguire la stampa\n",
    "                print('--------------------------------------------------')\n",
    "                print('trovatata intesezione su ', c, 'in pos. ', p_a, p_b)\n",
    "                print()\n",
    "                r = 0\n",
    "                while r < len(a): # per ogni riga\n",
    "                    if r != p_a:\n",
    "                        print(' '*p_b+a[r])\n",
    "                    else:\n",
    "                        print(b)\n",
    "                    r += 1\n",
    "            p_b += 1\n",
    "        p_a += 1"
   ]
  },
  {
   "cell_type": "code",
   "execution_count": 3,
   "id": "adequate-hampton",
   "metadata": {},
   "outputs": [
    {
     "name": "stdout",
     "output_type": "stream",
     "text": [
      "--------------------------------------------------\n",
      "trovatata intesezione su  n in pos.  1 12\n",
      "\n",
      "            A\n",
      "Programmazione\n",
      "            g\n",
      "            e\n",
      "            l\n",
      "            o\n",
      "--------------------------------------------------\n",
      "trovatata intesezione su  g in pos.  2 3\n",
      "\n",
      "   A\n",
      "   n\n",
      "Programmazione\n",
      "   e\n",
      "   l\n",
      "   o\n",
      "--------------------------------------------------\n",
      "trovatata intesezione su  e in pos.  3 13\n",
      "\n",
      "             A\n",
      "             n\n",
      "             g\n",
      "Programmazione\n",
      "             l\n",
      "             o\n",
      "--------------------------------------------------\n",
      "trovatata intesezione su  o in pos.  5 2\n",
      "\n",
      "  A\n",
      "  n\n",
      "  g\n",
      "  e\n",
      "  l\n",
      "Programmazione\n",
      "--------------------------------------------------\n",
      "trovatata intesezione su  o in pos.  5 11\n",
      "\n",
      "           A\n",
      "           n\n",
      "           g\n",
      "           e\n",
      "           l\n",
      "Programmazione\n"
     ]
    }
   ],
   "source": [
    "incrocia_stringhe('Angelo', 'Programmazione')"
   ]
  },
  {
   "cell_type": "code",
   "execution_count": 12,
   "id": "quality-alarm",
   "metadata": {},
   "outputs": [],
   "source": [
    "def incrocia_stringhe( a, b):\n",
    "    p_a = 0\n",
    "\n",
    "    while p_a < len(a):\n",
    "        c = a[p_a]\n",
    "        # c è in b? ed in che posizione?\n",
    "        p_b = 0\n",
    "        while p_b < len(b):\n",
    "            if c == b[p_b]:\n",
    "                # Trovato!\n",
    "                # eseguire la stampa\n",
    "                print('--------------------------------------------------')\n",
    "                print('trovatata intesezione su ', c, 'in pos. ', p_a, p_b)\n",
    "                print()\n",
    "                r = 0\n",
    "                while r < len(a): # per ogni riga\n",
    "                    if r != p_a:\n",
    "                        print(' '*p_b+a[r])\n",
    "                    else:\n",
    "                        print(b)\n",
    "                    r += 1\n",
    "                # interrompere l'esecuzione\n",
    "                return\n",
    "            p_b += 1\n",
    "        p_a += 1"
   ]
  },
  {
   "cell_type": "code",
   "execution_count": 13,
   "id": "animal-tourism",
   "metadata": {},
   "outputs": [
    {
     "name": "stdout",
     "output_type": "stream",
     "text": [
      "--------------------------------------------------\n",
      "trovatata intesezione su  n in pos.  1 12\n",
      "\n",
      "            A\n",
      "Programmazione\n",
      "            g\n",
      "            e\n",
      "            l\n",
      "            o\n"
     ]
    }
   ],
   "source": [
    "incrocia_stringhe('Angelo', 'Programmazione')"
   ]
  },
  {
   "cell_type": "code",
   "execution_count": 14,
   "id": "detailed-dealing",
   "metadata": {},
   "outputs": [
    {
     "name": "stdout",
     "output_type": "stream",
     "text": [
      "1\n",
      "2\n",
      "3\n",
      "1\n",
      "2\n",
      "3\n",
      "1\n",
      "2\n",
      "3\n"
     ]
    }
   ],
   "source": [
    "for x in 'abc':\n",
    "    for i in range(1, 10):\n",
    "        print(i)\n",
    "        if i % 3 == 0:\n",
    "            break"
   ]
  },
  {
   "cell_type": "code",
   "execution_count": 17,
   "id": "smart-deposit",
   "metadata": {},
   "outputs": [],
   "source": [
    "def incrocia_stringhe( a, b):\n",
    "    p_a = 0\n",
    "    trovato = False\n",
    "    while p_a < len(a):\n",
    "        c = a[p_a]\n",
    "        # c è in b? ed in che posizione?\n",
    "        p_b = 0\n",
    "        while p_b < len(b):\n",
    "            if c == b[p_b]:\n",
    "                # Trovato!\n",
    "                # eseguire la stampa\n",
    "                print('--------------------------------------------------')\n",
    "                print('trovatata intesezione su ', c, 'in pos. ', p_a, p_b)\n",
    "                print()\n",
    "                r = 0\n",
    "                while r < len(a): # per ogni riga\n",
    "                    if r != p_a:\n",
    "                        print(' '*p_b+a[r])\n",
    "                    else:\n",
    "                        print(b)\n",
    "                    r += 1\n",
    "                # interrompere l'esecuzione\n",
    "                trovato = True\n",
    "            p_b += 1\n",
    "        if trovato == True:\n",
    "            break\n",
    "        p_a += 1"
   ]
  },
  {
   "cell_type": "code",
   "execution_count": 18,
   "id": "weird-combining",
   "metadata": {},
   "outputs": [
    {
     "name": "stdout",
     "output_type": "stream",
     "text": [
      "--------------------------------------------------\n",
      "trovatata intesezione su  n in pos.  1 12\n",
      "\n",
      "            A\n",
      "Programmazione\n",
      "            g\n",
      "            e\n",
      "            l\n",
      "            o\n"
     ]
    }
   ],
   "source": [
    "incrocia_stringhe('Angelo', 'Programmazione')"
   ]
  },
  {
   "cell_type": "markdown",
   "id": "operational-tyler",
   "metadata": {},
   "source": [
    "## Operatori logici"
   ]
  },
  {
   "cell_type": "code",
   "execution_count": 20,
   "id": "logical-messenger",
   "metadata": {},
   "outputs": [
    {
     "name": "stdout",
     "output_type": "stream",
     "text": [
      "True\n",
      "True\n"
     ]
    }
   ],
   "source": [
    "x, y = 10, 4\n",
    "\n",
    "z = 6\n",
    "\n",
    "print(x != y)\n",
    "print(x > z)"
   ]
  },
  {
   "cell_type": "code",
   "execution_count": 23,
   "id": "palestinian-pollution",
   "metadata": {},
   "outputs": [
    {
     "name": "stdout",
     "output_type": "stream",
     "text": [
      "No\n"
     ]
    }
   ],
   "source": [
    "if x != y and x < z:\n",
    "    print('Si')\n",
    "else:\n",
    "    print('No')"
   ]
  },
  {
   "cell_type": "code",
   "execution_count": 24,
   "id": "equal-recipe",
   "metadata": {},
   "outputs": [
    {
     "data": {
      "text/plain": [
       "True"
      ]
     },
     "execution_count": 24,
     "metadata": {},
     "output_type": "execute_result"
    }
   ],
   "source": [
    "x != y or x < z"
   ]
  },
  {
   "cell_type": "code",
   "execution_count": 25,
   "id": "selective-president",
   "metadata": {},
   "outputs": [
    {
     "data": {
      "text/plain": [
       "False"
      ]
     },
     "execution_count": 25,
     "metadata": {},
     "output_type": "execute_result"
    }
   ],
   "source": [
    "x == y or x < z"
   ]
  },
  {
   "cell_type": "code",
   "execution_count": 26,
   "id": "requested-outside",
   "metadata": {},
   "outputs": [
    {
     "data": {
      "text/plain": [
       "True"
      ]
     },
     "execution_count": 26,
     "metadata": {},
     "output_type": "execute_result"
    }
   ],
   "source": [
    "not x == y"
   ]
  },
  {
   "cell_type": "code",
   "execution_count": 31,
   "id": "korean-algorithm",
   "metadata": {},
   "outputs": [],
   "source": [
    "def incrocia_stringhe( a, b):\n",
    "    p_a = 0\n",
    "    trovato = False\n",
    "    while p_a < len(a) and not trovato:\n",
    "        c = a[p_a]\n",
    "        # c è in b? ed in che posizione?\n",
    "        p_b = 0\n",
    "        while p_b < len(b) and not trovato:\n",
    "            if c == b[p_b]:\n",
    "                # Trovato!\n",
    "                # eseguire la stampa\n",
    "                print('--------------------------------------------------')\n",
    "                print('trovatata intesezione su ', c, 'in pos. ', p_a, p_b)\n",
    "                print()\n",
    "                r = 0\n",
    "                while r < len(a): # per ogni riga\n",
    "                    if r != p_a:\n",
    "                        print(' '*p_b+a[r])\n",
    "                    else:\n",
    "                        print(b)\n",
    "                    r += 1\n",
    "                # interrompere l'esecuzione\n",
    "                trovato = True\n",
    "            p_b += 1\n",
    "        p_a += 1"
   ]
  },
  {
   "cell_type": "code",
   "execution_count": 32,
   "id": "norman-minimum",
   "metadata": {},
   "outputs": [
    {
     "name": "stdout",
     "output_type": "stream",
     "text": [
      "--------------------------------------------------\n",
      "trovatata intesezione su  n in pos.  1 7\n",
      "\n",
      "       A\n",
      "Programnazione\n",
      "       g\n",
      "       e\n",
      "       l\n",
      "       o\n"
     ]
    }
   ],
   "source": [
    "incrocia_stringhe('Angelo', 'Programnazione')"
   ]
  },
  {
   "cell_type": "markdown",
   "id": "acoustic-johns",
   "metadata": {},
   "source": [
    "# Metodi"
   ]
  },
  {
   "cell_type": "code",
   "execution_count": 36,
   "id": "northern-depression",
   "metadata": {},
   "outputs": [],
   "source": [
    "a = 'programmazione'"
   ]
  },
  {
   "cell_type": "code",
   "execution_count": 34,
   "id": "described-rubber",
   "metadata": {},
   "outputs": [
    {
     "data": {
      "text/plain": [
       "str"
      ]
     },
     "execution_count": 34,
     "metadata": {},
     "output_type": "execute_result"
    }
   ],
   "source": [
    "type(a)"
   ]
  },
  {
   "cell_type": "code",
   "execution_count": 37,
   "id": "interior-exchange",
   "metadata": {},
   "outputs": [
    {
     "data": {
      "text/plain": [
       "'Programmazione'"
      ]
     },
     "execution_count": 37,
     "metadata": {},
     "output_type": "execute_result"
    }
   ],
   "source": [
    "a.capitalize()"
   ]
  },
  {
   "cell_type": "code",
   "execution_count": 38,
   "id": "lonely-orlando",
   "metadata": {},
   "outputs": [
    {
     "name": "stdout",
     "output_type": "stream",
     "text": [
      "programmazione\n"
     ]
    }
   ],
   "source": [
    "print(a)"
   ]
  },
  {
   "cell_type": "code",
   "execution_count": 43,
   "id": "corrected-organizer",
   "metadata": {},
   "outputs": [
    {
     "data": {
      "text/plain": [
       "int"
      ]
     },
     "execution_count": 43,
     "metadata": {},
     "output_type": "execute_result"
    }
   ],
   "source": [
    "a.find('x')"
   ]
  },
  {
   "cell_type": "markdown",
   "id": "ultimate-support",
   "metadata": {},
   "source": [
    "**Esercizio**\n",
    "\n",
    "Imoplementare la funzione `incrocia_stringhe` utilizzando il metodo `find`."
   ]
  },
  {
   "cell_type": "code",
   "execution_count": 44,
   "id": "conceptual-trick",
   "metadata": {},
   "outputs": [
    {
     "data": {
      "text/plain": [
       "True"
      ]
     },
     "execution_count": 44,
     "metadata": {},
     "output_type": "execute_result"
    }
   ],
   "source": [
    "a.islower()"
   ]
  },
  {
   "cell_type": "code",
   "execution_count": 46,
   "id": "ambient-delicious",
   "metadata": {},
   "outputs": [
    {
     "data": {
      "text/plain": [
       "'progrAAMMmazione'"
      ]
     },
     "execution_count": 46,
     "metadata": {},
     "output_type": "execute_result"
    }
   ],
   "source": [
    "a.replace('am', 'AAMM')"
   ]
  },
  {
   "cell_type": "code",
   "execution_count": 47,
   "id": "excessive-reset",
   "metadata": {},
   "outputs": [
    {
     "data": {
      "text/plain": [
       "'PROGRAMMAZIONE'"
      ]
     },
     "execution_count": 47,
     "metadata": {},
     "output_type": "execute_result"
    }
   ],
   "source": [
    "a.upper()"
   ]
  },
  {
   "cell_type": "code",
   "execution_count": 49,
   "id": "floppy-burns",
   "metadata": {},
   "outputs": [
    {
     "name": "stdout",
     "output_type": "stream",
     "text": [
      "Help on built-in function upper:\n",
      "\n",
      "upper() method of builtins.str instance\n",
      "    Return a copy of the string converted to uppercase.\n",
      "\n"
     ]
    }
   ],
   "source": [
    "help(a.upper)"
   ]
  },
  {
   "cell_type": "code",
   "execution_count": 50,
   "id": "representative-vietnam",
   "metadata": {},
   "outputs": [
    {
     "data": {
      "text/plain": [
       "['__add__',\n",
       " '__class__',\n",
       " '__contains__',\n",
       " '__delattr__',\n",
       " '__dir__',\n",
       " '__doc__',\n",
       " '__eq__',\n",
       " '__format__',\n",
       " '__ge__',\n",
       " '__getattribute__',\n",
       " '__getitem__',\n",
       " '__getnewargs__',\n",
       " '__gt__',\n",
       " '__hash__',\n",
       " '__init__',\n",
       " '__init_subclass__',\n",
       " '__iter__',\n",
       " '__le__',\n",
       " '__len__',\n",
       " '__lt__',\n",
       " '__mod__',\n",
       " '__mul__',\n",
       " '__ne__',\n",
       " '__new__',\n",
       " '__reduce__',\n",
       " '__reduce_ex__',\n",
       " '__repr__',\n",
       " '__rmod__',\n",
       " '__rmul__',\n",
       " '__setattr__',\n",
       " '__sizeof__',\n",
       " '__str__',\n",
       " '__subclasshook__',\n",
       " 'capitalize',\n",
       " 'casefold',\n",
       " 'center',\n",
       " 'count',\n",
       " 'encode',\n",
       " 'endswith',\n",
       " 'expandtabs',\n",
       " 'find',\n",
       " 'format',\n",
       " 'format_map',\n",
       " 'index',\n",
       " 'isalnum',\n",
       " 'isalpha',\n",
       " 'isascii',\n",
       " 'isdecimal',\n",
       " 'isdigit',\n",
       " 'isidentifier',\n",
       " 'islower',\n",
       " 'isnumeric',\n",
       " 'isprintable',\n",
       " 'isspace',\n",
       " 'istitle',\n",
       " 'isupper',\n",
       " 'join',\n",
       " 'ljust',\n",
       " 'lower',\n",
       " 'lstrip',\n",
       " 'maketrans',\n",
       " 'partition',\n",
       " 'removeprefix',\n",
       " 'removesuffix',\n",
       " 'replace',\n",
       " 'rfind',\n",
       " 'rindex',\n",
       " 'rjust',\n",
       " 'rpartition',\n",
       " 'rsplit',\n",
       " 'rstrip',\n",
       " 'split',\n",
       " 'splitlines',\n",
       " 'startswith',\n",
       " 'strip',\n",
       " 'swapcase',\n",
       " 'title',\n",
       " 'translate',\n",
       " 'upper',\n",
       " 'zfill']"
      ]
     },
     "execution_count": 50,
     "metadata": {},
     "output_type": "execute_result"
    }
   ],
   "source": [
    "dir(a)"
   ]
  },
  {
   "cell_type": "code",
   "execution_count": 51,
   "id": "pediatric-willow",
   "metadata": {},
   "outputs": [
    {
     "name": "stdout",
     "output_type": "stream",
     "text": [
      "Help on built-in function split:\n",
      "\n",
      "split(sep=None, maxsplit=-1) method of builtins.str instance\n",
      "    Return a list of the words in the string, using sep as the delimiter string.\n",
      "    \n",
      "    sep\n",
      "      The delimiter according which to split the string.\n",
      "      None (the default value) means split according to any whitespace,\n",
      "      and discard empty strings from the result.\n",
      "    maxsplit\n",
      "      Maximum number of splits to do.\n",
      "      -1 (the default value) means no limit.\n",
      "\n"
     ]
    }
   ],
   "source": [
    "help(a.split)"
   ]
  },
  {
   "cell_type": "markdown",
   "id": "temporal-lounge",
   "metadata": {},
   "source": [
    "# Lista"
   ]
  },
  {
   "cell_type": "code",
   "execution_count": 53,
   "id": "outer-hospital",
   "metadata": {},
   "outputs": [],
   "source": [
    "a = [ 'uno', 3.1415, True, [4, 8] ]\n",
    "b = [] #  lista vuota"
   ]
  },
  {
   "cell_type": "code",
   "execution_count": 56,
   "id": "ideal-portfolio",
   "metadata": {},
   "outputs": [
    {
     "name": "stdout",
     "output_type": "stream",
     "text": [
      "3.1415\n",
      "['uno', 3.1415]\n",
      "[[4, 8], True, 3.1415, 'uno']\n"
     ]
    }
   ],
   "source": [
    "print(a[1])   # indicizzazione\n",
    "print(a[:2])  # slicing\n",
    "print(a[::-1])"
   ]
  },
  {
   "cell_type": "code",
   "execution_count": 58,
   "id": "increased-cookie",
   "metadata": {},
   "outputs": [
    {
     "name": "stdout",
     "output_type": "stream",
     "text": [
      "[1, 3.1415, True, [4, 8]]\n"
     ]
    }
   ],
   "source": [
    "a[0] = 1\n",
    "print(a)"
   ]
  },
  {
   "cell_type": "code",
   "execution_count": 59,
   "id": "photographic-vulnerability",
   "metadata": {},
   "outputs": [
    {
     "data": {
      "text/plain": [
       "4"
      ]
     },
     "execution_count": 59,
     "metadata": {},
     "output_type": "execute_result"
    }
   ],
   "source": [
    "len(a)"
   ]
  },
  {
   "cell_type": "code",
   "execution_count": 60,
   "id": "spectacular-banana",
   "metadata": {},
   "outputs": [],
   "source": [
    "a.append('stringa')"
   ]
  },
  {
   "cell_type": "code",
   "execution_count": 61,
   "id": "exclusive-authorization",
   "metadata": {},
   "outputs": [
    {
     "name": "stdout",
     "output_type": "stream",
     "text": [
      "[1, 3.1415, True, [4, 8], 'stringa']\n"
     ]
    }
   ],
   "source": [
    "print(a)"
   ]
  },
  {
   "cell_type": "code",
   "execution_count": 62,
   "id": "waiting-partition",
   "metadata": {},
   "outputs": [
    {
     "name": "stdout",
     "output_type": "stream",
     "text": [
      "Help on built-in function insert:\n",
      "\n",
      "insert(index, object, /) method of builtins.list instance\n",
      "    Insert object before index.\n",
      "\n"
     ]
    }
   ],
   "source": [
    "help(a.insert)"
   ]
  },
  {
   "cell_type": "code",
   "execution_count": 63,
   "id": "sweet-tragedy",
   "metadata": {},
   "outputs": [],
   "source": [
    "a.insert(2, 'nuovo elemento')"
   ]
  },
  {
   "cell_type": "code",
   "execution_count": 64,
   "id": "combined-review",
   "metadata": {},
   "outputs": [
    {
     "name": "stdout",
     "output_type": "stream",
     "text": [
      "[1, 3.1415, 'nuovo elemento', True, [4, 8], 'stringa']\n"
     ]
    }
   ],
   "source": [
    "print(a)"
   ]
  },
  {
   "cell_type": "code",
   "execution_count": 65,
   "id": "incorporated-batch",
   "metadata": {},
   "outputs": [
    {
     "name": "stdout",
     "output_type": "stream",
     "text": [
      "Help on built-in function remove:\n",
      "\n",
      "remove(value, /) method of builtins.list instance\n",
      "    Remove first occurrence of value.\n",
      "    \n",
      "    Raises ValueError if the value is not present.\n",
      "\n"
     ]
    }
   ],
   "source": [
    "help(a.remove)"
   ]
  },
  {
   "cell_type": "code",
   "execution_count": 66,
   "id": "indoor-uganda",
   "metadata": {},
   "outputs": [],
   "source": [
    "del(a[3])"
   ]
  },
  {
   "cell_type": "code",
   "execution_count": 67,
   "id": "extreme-receipt",
   "metadata": {},
   "outputs": [
    {
     "name": "stdout",
     "output_type": "stream",
     "text": [
      "[1, 3.1415, 'nuovo elemento', [4, 8], 'stringa']\n"
     ]
    }
   ],
   "source": [
    "print(a)"
   ]
  },
  {
   "cell_type": "code",
   "execution_count": 68,
   "id": "speaking-stupid",
   "metadata": {},
   "outputs": [
    {
     "name": "stdout",
     "output_type": "stream",
     "text": [
      "1\n",
      "3.1415\n",
      "nuovo elemento\n",
      "[4, 8]\n",
      "stringa\n"
     ]
    }
   ],
   "source": [
    "for e in  a:\n",
    "    print(e)"
   ]
  },
  {
   "cell_type": "code",
   "execution_count": 69,
   "id": "small-argument",
   "metadata": {},
   "outputs": [
    {
     "data": {
      "text/plain": [
       "False"
      ]
     },
     "execution_count": 69,
     "metadata": {},
     "output_type": "execute_result"
    }
   ],
   "source": [
    "0 in a"
   ]
  },
  {
   "cell_type": "code",
   "execution_count": 70,
   "id": "equipped-security",
   "metadata": {},
   "outputs": [
    {
     "name": "stdout",
     "output_type": "stream",
     "text": [
      "Help on built-in function index:\n",
      "\n",
      "index(value, start=0, stop=9223372036854775807, /) method of builtins.list instance\n",
      "    Return first index of value.\n",
      "    \n",
      "    Raises ValueError if the value is not present.\n",
      "\n"
     ]
    }
   ],
   "source": [
    "help(a.index)"
   ]
  },
  {
   "cell_type": "code",
   "execution_count": 74,
   "id": "parliamentary-syndicate",
   "metadata": {},
   "outputs": [
    {
     "data": {
      "text/plain": [
       "2"
      ]
     },
     "execution_count": 74,
     "metadata": {},
     "output_type": "execute_result"
    }
   ],
   "source": [
    "a.index('nuovo elemento')"
   ]
  },
  {
   "cell_type": "code",
   "execution_count": 75,
   "id": "suspected-blend",
   "metadata": {},
   "outputs": [
    {
     "name": "stdout",
     "output_type": "stream",
     "text": [
      "[1, 3.1415, 'nuovo elemento', [4, 8], 'stringa']\n"
     ]
    }
   ],
   "source": [
    "print(a)"
   ]
  },
  {
   "cell_type": "code",
   "execution_count": 76,
   "id": "spoken-debate",
   "metadata": {},
   "outputs": [],
   "source": [
    "b = a"
   ]
  },
  {
   "cell_type": "code",
   "execution_count": 78,
   "id": "threaded-cleaning",
   "metadata": {},
   "outputs": [
    {
     "data": {
      "text/plain": [
       "list"
      ]
     },
     "execution_count": 78,
     "metadata": {},
     "output_type": "execute_result"
    }
   ],
   "source": [
    "type(b)"
   ]
  },
  {
   "cell_type": "code",
   "execution_count": 79,
   "id": "decreased-coffee",
   "metadata": {},
   "outputs": [
    {
     "name": "stdout",
     "output_type": "stream",
     "text": [
      "[4, 3.1415, 'nuovo elemento', [4, 8], 'stringa']\n"
     ]
    }
   ],
   "source": [
    "a[0] = 4\n",
    "print(a)"
   ]
  },
  {
   "cell_type": "code",
   "execution_count": 80,
   "id": "final-interest",
   "metadata": {},
   "outputs": [
    {
     "name": "stdout",
     "output_type": "stream",
     "text": [
      "[4, 3.1415, 'nuovo elemento', [4, 8], 'stringa']\n"
     ]
    }
   ],
   "source": [
    "print(b)"
   ]
  },
  {
   "cell_type": "code",
   "execution_count": 81,
   "id": "designing-bridges",
   "metadata": {},
   "outputs": [
    {
     "name": "stdout",
     "output_type": "stream",
     "text": [
      "8\n"
     ]
    }
   ],
   "source": [
    "def max_on_list(a):\n",
    "    ## trova il massimo, assumo che a contenga numeri\n",
    "    m = a[0]\n",
    "    for x in a:\n",
    "        if x > m:\n",
    "            m = x\n",
    "    return m\n",
    "\n",
    "print(max_on_list([2,1,4,3,6,5,4,8,1]))"
   ]
  },
  {
   "cell_type": "code",
   "execution_count": 83,
   "id": "familiar-prayer",
   "metadata": {},
   "outputs": [
    {
     "data": {
      "text/plain": [
       "[4, 3.1415, 'nuovo elemento', [4, 8], 'stringa']"
      ]
     },
     "execution_count": 83,
     "metadata": {},
     "output_type": "execute_result"
    }
   ],
   "source": [
    "a[0:len(a)]"
   ]
  },
  {
   "cell_type": "code",
   "execution_count": 86,
   "id": "posted-curve",
   "metadata": {},
   "outputs": [
    {
     "data": {
      "text/plain": [
       "[4, 3.1415, 'nuovo elemento', [4, 8], 'stringa']"
      ]
     },
     "execution_count": 86,
     "metadata": {},
     "output_type": "execute_result"
    }
   ],
   "source": [
    "a"
   ]
  },
  {
   "cell_type": "code",
   "execution_count": 87,
   "id": "intermediate-technique",
   "metadata": {},
   "outputs": [],
   "source": [
    "b = []\n",
    "for x in a:\n",
    "    b.append(x)"
   ]
  },
  {
   "cell_type": "code",
   "execution_count": null,
   "id": "lasting-connectivity",
   "metadata": {},
   "outputs": [],
   "source": []
  }
 ],
 "metadata": {
  "kernelspec": {
   "display_name": "Python 3",
   "language": "python",
   "name": "python3"
  },
  "language_info": {
   "codemirror_mode": {
    "name": "ipython",
    "version": 3
   },
   "file_extension": ".py",
   "mimetype": "text/x-python",
   "name": "python",
   "nbconvert_exporter": "python",
   "pygments_lexer": "ipython3",
   "version": "3.9.2"
  }
 },
 "nbformat": 4,
 "nbformat_minor": 5
}
