{
 "cells": [
  {
   "cell_type": "markdown",
   "id": "intellectual-reader",
   "metadata": {},
   "source": [
    "# Esercizi per casa\n",
    "\n",
    "**1**. Implementare la funzione `incrocia_stringhe` utilizzando il metodo `find`.\n",
    "\n",
    "**2**. Scrivere una funzione che prende in input una lista di stringhe e le stampa, una per ogni riga, allineandole al centro.\n",
    "\n",
    "*Esempio*. Se la lista in input è `['programma', 'algoritmo', 'somma', 'max', 'iterazione', 'la']`, la funzione deve stampare\n",
    "\n",
    "```\n",
    "  programma\n",
    "  algoritmo\n",
    "    somma\n",
    "     max\n",
    "cancellazione\n",
    "     la\n",
    "```\n",
    "\n",
    "**3**. Scrivere una funzione che prende in input due liste e ne restituisce una terza che contiene tutti gli elementi che si trovano nell'intersezione delle due liste in input.\n",
    "\n",
    "## Soluzioni\n",
    "\n",
    "### 1"
   ]
  },
  {
   "cell_type": "code",
   "execution_count": 2,
   "id": "tribal-saturn",
   "metadata": {},
   "outputs": [
    {
     "name": "stdout",
     "output_type": "stream",
     "text": [
      "--------------------------------------------------\n",
      "trovatata intesezione su  n in pos.  1 12\n",
      "\n",
      "            A\n",
      "Programmazione\n",
      "            g\n",
      "            e\n",
      "            l\n",
      "            o\n"
     ]
    }
   ],
   "source": [
    "def incrocia_stringhe( a, b):\n",
    "    p_a = 0\n",
    "    trovato = False\n",
    "    while p_a < len(a):\n",
    "        c = a[p_a]\n",
    "        # c è in b? ed in che posizione?\n",
    "        p_b = b.find(c)\n",
    "        \n",
    "        if p_b >= 0:\n",
    "                # Trovato!\n",
    "                # eseguire la stampa\n",
    "                print('--------------------------------------------------')\n",
    "                print('trovatata intesezione su ', c, 'in pos. ', p_a, p_b)\n",
    "                print()\n",
    "                r = 0\n",
    "                while r < len(a): # per ogni riga\n",
    "                    if r != p_a:\n",
    "                        print(' '*p_b+a[r])\n",
    "                    else:\n",
    "                        print(b)\n",
    "                    r += 1\n",
    "                # interrompere l'esecuzione\n",
    "                trovato = True\n",
    "        if trovato == True:\n",
    "            break\n",
    "        p_a += 1\n",
    "        \n",
    "incrocia_stringhe('Angelo', 'Programmazione')"
   ]
  },
  {
   "cell_type": "markdown",
   "id": "material-comparative",
   "metadata": {},
   "source": [
    "### 2"
   ]
  },
  {
   "cell_type": "code",
   "execution_count": 62,
   "id": "grave-aside",
   "metadata": {},
   "outputs": [
    {
     "name": "stdout",
     "output_type": "stream",
     "text": [
      "programma\n",
      "algoritmo\n",
      "  somma\n",
      "   max\n",
      "iterazione\n",
      "    la\n"
     ]
    }
   ],
   "source": [
    "a = ['programma', 'algoritmo', 'somma', 'max', 'iterazione', 'la']\n",
    "\n",
    "def centra_stringhe(a):\n",
    "    # dimensione della stringa più lunga\n",
    "    m = 0\n",
    "    for x in a:\n",
    "        if len(x) > m:\n",
    "            m = len(x)\n",
    "    # il numero di spazi che precedono x è la metà della differenza\n",
    "    # tra m e la lunghezza della stringa corrente\n",
    "    for x in a:\n",
    "        spazi = ' '*((m-len(x))//2)\n",
    "        print(spazi+x)\n",
    "        \n",
    "centra_stringhe(a)"
   ]
  },
  {
   "cell_type": "markdown",
   "id": "humanitarian-trinidad",
   "metadata": {},
   "source": [
    "# 3"
   ]
  },
  {
   "cell_type": "code",
   "execution_count": 63,
   "id": "automated-admission",
   "metadata": {},
   "outputs": [],
   "source": [
    "def intersezione(a, b):\n",
    "    a_inter_b = []\n",
    "\n",
    "    for x in a:\n",
    "        if x in b and x not in a_inter_b:\n",
    "            # x deve essere anche in b  ma non nell'intersezione\n",
    "            a_inter_b.append(x)\n",
    "\n",
    "    return a_inter_b"
   ]
  },
  {
   "cell_type": "code",
   "execution_count": 64,
   "id": "medium-absorption",
   "metadata": {},
   "outputs": [
    {
     "name": "stdout",
     "output_type": "stream",
     "text": [
      "[2, 21, 'due']\n"
     ]
    }
   ],
   "source": [
    "L0 = ['uno', 2, 'zero', 21, 'due', 2]\n",
    "L1 = ['due', 2, 0, 21]\n",
    "\n",
    "L2= intersezione(L0, L1)\n",
    "\n",
    "print(L2)"
   ]
  },
  {
   "cell_type": "markdown",
   "id": "adjacent-determination",
   "metadata": {},
   "source": [
    "## Ripetizione e concatenazione di liste"
   ]
  },
  {
   "cell_type": "code",
   "execution_count": 12,
   "id": "located-acceptance",
   "metadata": {},
   "outputs": [],
   "source": [
    "zeri = [0]*200 # ripetizione"
   ]
  },
  {
   "cell_type": "code",
   "execution_count": 67,
   "id": "permanent-subscriber",
   "metadata": {},
   "outputs": [],
   "source": [
    "a = [0]*10  # ripetizione\n",
    "b = [1]*10  # ripetizione\n",
    "c = a+b     # concatenazione"
   ]
  },
  {
   "cell_type": "markdown",
   "id": "union-afghanistan",
   "metadata": {},
   "source": [
    "### Somma degli elementi su una sequenza"
   ]
  },
  {
   "cell_type": "code",
   "execution_count": 68,
   "id": "literary-stadium",
   "metadata": {},
   "outputs": [
    {
     "data": {
      "text/plain": [
       "10"
      ]
     },
     "execution_count": 68,
     "metadata": {},
     "output_type": "execute_result"
    }
   ],
   "source": [
    "sum(c)"
   ]
  },
  {
   "cell_type": "code",
   "execution_count": 69,
   "id": "common-vatican",
   "metadata": {},
   "outputs": [
    {
     "data": {
      "text/plain": [
       "0.5"
      ]
     },
     "execution_count": 69,
     "metadata": {},
     "output_type": "execute_result"
    }
   ],
   "source": [
    "sum(c)/len(c) # un modo per calcolare la media"
   ]
  },
  {
   "cell_type": "markdown",
   "id": "personalized-deployment",
   "metadata": {},
   "source": [
    "# Dizionario"
   ]
  },
  {
   "cell_type": "code",
   "execution_count": 1,
   "id": "impressed-cheat",
   "metadata": {},
   "outputs": [],
   "source": [
    "d0 = {} # dizionario vuoto\n",
    "d1 = { 'k0':10, 4:3.14,  '0':['zero', 0]} #  dizionario inizializzato con 3 elementi"
   ]
  },
  {
   "cell_type": "code",
   "execution_count": 2,
   "id": "false-thumb",
   "metadata": {},
   "outputs": [
    {
     "name": "stdout",
     "output_type": "stream",
     "text": [
      "{'k0': 10, 4: 3.14, '0': ['zero', 0]}\n"
     ]
    }
   ],
   "source": [
    "print(d1)"
   ]
  },
  {
   "cell_type": "markdown",
   "id": "southeast-chemical",
   "metadata": {},
   "source": [
    "Operatore `in`, verifica se un valore è chiave di un dizionario"
   ]
  },
  {
   "cell_type": "code",
   "execution_count": 20,
   "id": "japanese-privilege",
   "metadata": {},
   "outputs": [
    {
     "name": "stdout",
     "output_type": "stream",
     "text": [
      "True\n",
      "False\n"
     ]
    }
   ],
   "source": [
    "print('k0' in d1)\n",
    "print(3 in d1)"
   ]
  },
  {
   "cell_type": "code",
   "execution_count": 72,
   "id": "funded-composite",
   "metadata": {},
   "outputs": [
    {
     "name": "stdout",
     "output_type": "stream",
     "text": [
      "10\n"
     ]
    }
   ],
   "source": [
    "print(d1['k0']) # dalla chiave al valore"
   ]
  },
  {
   "cell_type": "code",
   "execution_count": 22,
   "id": "terminal-language",
   "metadata": {},
   "outputs": [
    {
     "ename": "KeyError",
     "evalue": "3",
     "output_type": "error",
     "traceback": [
      "\u001b[0;31m---------------------------------------------------------------------------\u001b[0m",
      "\u001b[0;31mKeyError\u001b[0m                                  Traceback (most recent call last)",
      "\u001b[0;32m<ipython-input-22-b67bf9399f69>\u001b[0m in \u001b[0;36m<module>\u001b[0;34m\u001b[0m\n\u001b[0;32m----> 1\u001b[0;31m \u001b[0mprint\u001b[0m\u001b[0;34m(\u001b[0m\u001b[0md1\u001b[0m\u001b[0;34m[\u001b[0m\u001b[0;36m3\u001b[0m\u001b[0;34m]\u001b[0m\u001b[0;34m)\u001b[0m\u001b[0;34m\u001b[0m\u001b[0;34m\u001b[0m\u001b[0m\n\u001b[0m",
      "\u001b[0;31mKeyError\u001b[0m: 3"
     ]
    }
   ],
   "source": [
    "print(d1[3])"
   ]
  },
  {
   "cell_type": "code",
   "execution_count": 25,
   "id": "coordinate-sacrifice",
   "metadata": {},
   "outputs": [],
   "source": [
    "if 3 in d1:\n",
    "    print(d1[3])\n",
    "else:\n",
    "    d1[3] = 'chiave tre' # aggiungiamo una nuova coppia"
   ]
  },
  {
   "cell_type": "code",
   "execution_count": 26,
   "id": "differential-directive",
   "metadata": {},
   "outputs": [
    {
     "name": "stdout",
     "output_type": "stream",
     "text": [
      "{'k0': 10, 4: 3.14, '0': 'zero', 3: 'chiave tre'}\n"
     ]
    }
   ],
   "source": [
    "print(d1)"
   ]
  },
  {
   "cell_type": "code",
   "execution_count": 73,
   "id": "biblical-yukon",
   "metadata": {},
   "outputs": [],
   "source": [
    "d1[3] = 0 # inserisce una nuova coppia o modifica il valore associato ad una chiave"
   ]
  },
  {
   "cell_type": "code",
   "execution_count": 28,
   "id": "upset-cambridge",
   "metadata": {},
   "outputs": [
    {
     "name": "stdout",
     "output_type": "stream",
     "text": [
      "{'k0': 10, 4: 3.14, '0': 'zero', 3: 0}\n"
     ]
    }
   ],
   "source": [
    "print(d1)"
   ]
  },
  {
   "cell_type": "markdown",
   "id": "understanding-hartford",
   "metadata": {},
   "source": [
    "**Esercizio** Sia `a` una stringa, creare un dizionario che mappa caratteri di `a` in interi. Dove l'intero corrisponde al numero di volte in cui il carattere compare in `a`.\n",
    "\n",
    "Se `a = 'programma'` allora `d` mappa `'a'` in `2`, `'p'` in `1` ,`'r'` in `2` e così via."
   ]
  },
  {
   "cell_type": "code",
   "execution_count": 3,
   "id": "informative-calendar",
   "metadata": {},
   "outputs": [
    {
     "name": "stdout",
     "output_type": "stream",
     "text": [
      "Digitare una stringa: programmazione\n",
      "{'p': 1, 'r': 2, 'o': 2, 'g': 1, 'a': 2, 'm': 2, 'z': 1, 'i': 1, 'n': 1, 'e': 1}\n"
     ]
    }
   ],
   "source": [
    "a  = input('Digitare una stringa: ')\n",
    "\n",
    "d = {}\n",
    "for x in a:\n",
    "    if x in d:\n",
    "        d[x] += 1\n",
    "    else:\n",
    "        d[x] = 1\n",
    "        \n",
    "print(d)"
   ]
  },
  {
   "cell_type": "markdown",
   "id": "universal-chicken",
   "metadata": {},
   "source": [
    "Cancellazione"
   ]
  },
  {
   "cell_type": "code",
   "execution_count": 30,
   "id": "empirical-scholar",
   "metadata": {},
   "outputs": [],
   "source": [
    "del(d['r'])"
   ]
  },
  {
   "cell_type": "code",
   "execution_count": 31,
   "id": "recovered-documentation",
   "metadata": {},
   "outputs": [
    {
     "data": {
      "text/plain": [
       "{'p': 1, 'o': 1, 'g': 1, 'a': 2, 'm': 2}"
      ]
     },
     "execution_count": 31,
     "metadata": {},
     "output_type": "execute_result"
    }
   ],
   "source": [
    "d"
   ]
  },
  {
   "cell_type": "markdown",
   "id": "cosmetic-mortality",
   "metadata": {},
   "source": [
    "Iterazione"
   ]
  },
  {
   "cell_type": "code",
   "execution_count": 33,
   "id": "champion-intellectual",
   "metadata": {},
   "outputs": [
    {
     "name": "stdout",
     "output_type": "stream",
     "text": [
      "p 1\n",
      "o 1\n",
      "g 1\n",
      "a 2\n",
      "m 2\n"
     ]
    }
   ],
   "source": [
    "for k in d:\n",
    "    print(k, d[k])"
   ]
  },
  {
   "cell_type": "code",
   "execution_count": 74,
   "id": "adequate-stevens",
   "metadata": {},
   "outputs": [
    {
     "data": {
      "text/plain": [
       "3"
      ]
     },
     "execution_count": 74,
     "metadata": {},
     "output_type": "execute_result"
    }
   ],
   "source": [
    "len(d) # numero di elementi nel dizionario (o numero di chiavi)"
   ]
  },
  {
   "cell_type": "markdown",
   "id": "suspended-makeup",
   "metadata": {},
   "source": [
    "#### Metodi"
   ]
  },
  {
   "cell_type": "code",
   "execution_count": 35,
   "id": "complete-royal",
   "metadata": {},
   "outputs": [
    {
     "data": {
      "text/plain": [
       "dict_keys(['p', 'o', 'g', 'a', 'm'])"
      ]
     },
     "execution_count": 35,
     "metadata": {},
     "output_type": "execute_result"
    }
   ],
   "source": [
    "d.keys()"
   ]
  },
  {
   "cell_type": "code",
   "execution_count": 36,
   "id": "musical-toronto",
   "metadata": {},
   "outputs": [
    {
     "data": {
      "text/plain": [
       "dict_values([1, 1, 1, 2, 2])"
      ]
     },
     "execution_count": 36,
     "metadata": {},
     "output_type": "execute_result"
    }
   ],
   "source": [
    "d.values()"
   ]
  },
  {
   "cell_type": "code",
   "execution_count": 37,
   "id": "irish-tennis",
   "metadata": {},
   "outputs": [
    {
     "data": {
      "text/plain": [
       "dict_items([('p', 1), ('o', 1), ('g', 1), ('a', 2), ('m', 2)])"
      ]
     },
     "execution_count": 37,
     "metadata": {},
     "output_type": "execute_result"
    }
   ],
   "source": [
    "d.items()"
   ]
  },
  {
   "cell_type": "code",
   "execution_count": 38,
   "id": "partial-vocabulary",
   "metadata": {},
   "outputs": [
    {
     "data": {
      "text/plain": [
       "False"
      ]
     },
     "execution_count": 38,
     "metadata": {},
     "output_type": "execute_result"
    }
   ],
   "source": [
    "3 in d.values()"
   ]
  },
  {
   "cell_type": "code",
   "execution_count": 39,
   "id": "capital-beginning",
   "metadata": {},
   "outputs": [
    {
     "data": {
      "text/plain": [
       "['__class__',\n",
       " '__class_getitem__',\n",
       " '__contains__',\n",
       " '__delattr__',\n",
       " '__delitem__',\n",
       " '__dir__',\n",
       " '__doc__',\n",
       " '__eq__',\n",
       " '__format__',\n",
       " '__ge__',\n",
       " '__getattribute__',\n",
       " '__getitem__',\n",
       " '__gt__',\n",
       " '__hash__',\n",
       " '__init__',\n",
       " '__init_subclass__',\n",
       " '__ior__',\n",
       " '__iter__',\n",
       " '__le__',\n",
       " '__len__',\n",
       " '__lt__',\n",
       " '__ne__',\n",
       " '__new__',\n",
       " '__or__',\n",
       " '__reduce__',\n",
       " '__reduce_ex__',\n",
       " '__repr__',\n",
       " '__reversed__',\n",
       " '__ror__',\n",
       " '__setattr__',\n",
       " '__setitem__',\n",
       " '__sizeof__',\n",
       " '__str__',\n",
       " '__subclasshook__',\n",
       " 'clear',\n",
       " 'copy',\n",
       " 'fromkeys',\n",
       " 'get',\n",
       " 'items',\n",
       " 'keys',\n",
       " 'pop',\n",
       " 'popitem',\n",
       " 'setdefault',\n",
       " 'update',\n",
       " 'values']"
      ]
     },
     "execution_count": 39,
     "metadata": {},
     "output_type": "execute_result"
    }
   ],
   "source": [
    "dir(d)"
   ]
  },
  {
   "cell_type": "markdown",
   "id": "powerful-algorithm",
   "metadata": {},
   "source": [
    "### Esercizio\n",
    "\n",
    "Data una lista di parole, creare un dizionario che ad ogni iniziale associ la lista di parole con quell'iniziale.\n",
    "\n",
    "**Esempio**: Se la lista di parole è\n",
    "```\n",
    "['programma', 'codice', 'python', 'processore', 'iterazione', 'input']\n",
    "```\n",
    "\n",
    "il dizionario è qualcosa del genere\n",
    "\n",
    "```\n",
    "'p' -> ['programma', 'python', 'processore']\n",
    "'c' -> ['codice']\n",
    "'i' -> ['iterazione', 'input']\n",
    "```\n"
   ]
  },
  {
   "cell_type": "code",
   "execution_count": 5,
   "id": "existing-recognition",
   "metadata": {},
   "outputs": [
    {
     "name": "stdout",
     "output_type": "stream",
     "text": [
      "p -> ['programma', 'python', 'processore']\n",
      "c -> ['codice']\n",
      "i -> ['iterazione', 'input']\n"
     ]
    }
   ],
   "source": [
    "a = ['programma', 'codice', 'python', '', 'processore', 'iterazione', 'input']\n",
    "d = {}\n",
    "for w in a:\n",
    "    if w != '':\n",
    "        k = w[0] # ok se la stringa w contiene almeno un carattere\n",
    "        if k in d:\n",
    "            # esiste d[k], una lista di parole con iniziale k\n",
    "            d[k].append(w)\n",
    "        else:\n",
    "            d[k] = [w]\n",
    "\n",
    "for k in d:\n",
    "    print(k, '->', d[k])"
   ]
  },
  {
   "cell_type": "markdown",
   "id": "white-algebra",
   "metadata": {},
   "source": [
    "## Ordinamento di una lista"
   ]
  },
  {
   "cell_type": "code",
   "execution_count": 6,
   "id": "south-affairs",
   "metadata": {},
   "outputs": [],
   "source": [
    "a = [4,3,5,6,3,1, 10, 0]"
   ]
  },
  {
   "cell_type": "code",
   "execution_count": 7,
   "id": "worst-march",
   "metadata": {},
   "outputs": [
    {
     "data": {
      "text/plain": [
       "['__add__',\n",
       " '__class__',\n",
       " '__class_getitem__',\n",
       " '__contains__',\n",
       " '__delattr__',\n",
       " '__delitem__',\n",
       " '__dir__',\n",
       " '__doc__',\n",
       " '__eq__',\n",
       " '__format__',\n",
       " '__ge__',\n",
       " '__getattribute__',\n",
       " '__getitem__',\n",
       " '__gt__',\n",
       " '__hash__',\n",
       " '__iadd__',\n",
       " '__imul__',\n",
       " '__init__',\n",
       " '__init_subclass__',\n",
       " '__iter__',\n",
       " '__le__',\n",
       " '__len__',\n",
       " '__lt__',\n",
       " '__mul__',\n",
       " '__ne__',\n",
       " '__new__',\n",
       " '__reduce__',\n",
       " '__reduce_ex__',\n",
       " '__repr__',\n",
       " '__reversed__',\n",
       " '__rmul__',\n",
       " '__setattr__',\n",
       " '__setitem__',\n",
       " '__sizeof__',\n",
       " '__str__',\n",
       " '__subclasshook__',\n",
       " 'append',\n",
       " 'clear',\n",
       " 'copy',\n",
       " 'count',\n",
       " 'extend',\n",
       " 'index',\n",
       " 'insert',\n",
       " 'pop',\n",
       " 'remove',\n",
       " 'reverse',\n",
       " 'sort']"
      ]
     },
     "execution_count": 7,
     "metadata": {},
     "output_type": "execute_result"
    }
   ],
   "source": [
    "dir(a)"
   ]
  },
  {
   "cell_type": "code",
   "execution_count": 8,
   "id": "postal-actor",
   "metadata": {},
   "outputs": [],
   "source": [
    "a.sort()"
   ]
  },
  {
   "cell_type": "code",
   "execution_count": 9,
   "id": "collaborative-storage",
   "metadata": {},
   "outputs": [
    {
     "name": "stdout",
     "output_type": "stream",
     "text": [
      "[0, 1, 3, 3, 4, 5, 6, 10]\n"
     ]
    }
   ],
   "source": [
    "print(a)"
   ]
  },
  {
   "cell_type": "code",
   "execution_count": 10,
   "id": "dynamic-lemon",
   "metadata": {},
   "outputs": [
    {
     "name": "stdout",
     "output_type": "stream",
     "text": [
      "['codice', 'input', 'iterazione', 'processore', 'programma', 'python']\n"
     ]
    }
   ],
   "source": [
    "a = ['programma', 'codice', 'python', 'processore', 'iterazione', 'input']\n",
    "a.sort()\n",
    "print(a)"
   ]
  },
  {
   "cell_type": "code",
   "execution_count": 11,
   "id": "suitable-denver",
   "metadata": {},
   "outputs": [
    {
     "name": "stdout",
     "output_type": "stream",
     "text": [
      "['!2G', '(dfwe)', '-%ciao', '12fuy', '8', 'AAAAAA', 'codice', 'input', 'iterazione', 'processore', 'programma', 'python']\n"
     ]
    }
   ],
   "source": [
    "a = ['programma', 'codice', 'python', 'processore', 'iterazione', 'input', '12fuy',\\\n",
    "     '8', '-%ciao', '!2G', 'AAAAAA', '(dfwe)']\n",
    "a.sort()\n",
    "print(a)"
   ]
  },
  {
   "cell_type": "code",
   "execution_count": 12,
   "id": "integrated-height",
   "metadata": {},
   "outputs": [
    {
     "name": "stdout",
     "output_type": "stream",
     "text": [
      "['programma', 'codice', 'python', 'processore', 'iterazione', 'input']\n",
      "['codice', 'input', 'iterazione', 'processore', 'programma', 'python']\n",
      "['python', 'programma', 'processore', 'iterazione', 'input', 'codice']\n"
     ]
    }
   ],
   "source": [
    "a = ['programma', 'codice', 'python', 'processore', 'iterazione', 'input']\n",
    "b = sorted(a)\n",
    "c = sorted(a, reverse=True)\n",
    "print(a)\n",
    "print(b)\n",
    "print(c)"
   ]
  },
  {
   "cell_type": "code",
   "execution_count": 56,
   "id": "distant-homework",
   "metadata": {},
   "outputs": [
    {
     "name": "stdout",
     "output_type": "stream",
     "text": [
      "Help on built-in function sorted in module builtins:\n",
      "\n",
      "sorted(iterable, /, *, key=None, reverse=False)\n",
      "    Return a new list containing all items from the iterable in ascending order.\n",
      "    \n",
      "    A custom key function can be supplied to customize the sort order, and the\n",
      "    reverse flag can be set to request the result in descending order.\n",
      "\n"
     ]
    }
   ],
   "source": [
    "help(sorted)"
   ]
  },
  {
   "cell_type": "code",
   "execution_count": 58,
   "id": "configured-wayne",
   "metadata": {},
   "outputs": [
    {
     "data": {
      "text/plain": [
       "['programma', 'codice', 'python', 'processore', 'iterazione', 'input']"
      ]
     },
     "execution_count": 58,
     "metadata": {},
     "output_type": "execute_result"
    }
   ],
   "source": [
    "a"
   ]
  },
  {
   "cell_type": "markdown",
   "id": "subsequent-purse",
   "metadata": {},
   "source": [
    "`key('programma') <= key('codice')`"
   ]
  },
  {
   "cell_type": "code",
   "execution_count": 59,
   "id": "compressed-finnish",
   "metadata": {},
   "outputs": [
    {
     "data": {
      "text/plain": [
       "['programma', 'codice', 'python', 'processore', 'iterazione', 'input']"
      ]
     },
     "execution_count": 59,
     "metadata": {},
     "output_type": "execute_result"
    }
   ],
   "source": [
    "a"
   ]
  },
  {
   "cell_type": "code",
   "execution_count": 60,
   "id": "removed-portrait",
   "metadata": {},
   "outputs": [
    {
     "data": {
      "text/plain": [
       "['input', 'codice', 'python', 'programma', 'processore', 'iterazione']"
      ]
     },
     "execution_count": 60,
     "metadata": {},
     "output_type": "execute_result"
    }
   ],
   "source": [
    "sorted(a, key=len)"
   ]
  },
  {
   "cell_type": "markdown",
   "id": "fewer-questionnaire",
   "metadata": {},
   "source": [
    "`len('programma') <= len('codice')`"
   ]
  },
  {
   "cell_type": "markdown",
   "id": "respiratory-consent",
   "metadata": {},
   "source": [
    "# Funzioni come parametri"
   ]
  },
  {
   "cell_type": "code",
   "execution_count": 13,
   "id": "contemporary-composite",
   "metadata": {},
   "outputs": [
    {
     "name": "stdout",
     "output_type": "stream",
     "text": [
      "9\n"
     ]
    }
   ],
   "source": [
    "def h(x):\n",
    "    return x+1\n",
    "\n",
    "def f(x, g):\n",
    "    # assumo che x sia un numero e g una funzione che prende in input numeri e\n",
    "    # restituisce numeri\n",
    "    return x + g(x)\n",
    "\n",
    "print(f(4, h))"
   ]
  },
  {
   "cell_type": "markdown",
   "id": "consolidated-radar",
   "metadata": {},
   "source": [
    "## Esercizio per casa"
   ]
  },
  {
   "cell_type": "code",
   "execution_count": null,
   "id": "comfortable-teacher",
   "metadata": {},
   "outputs": [],
   "source": [
    "def custom_max(a, f):\n",
    "    # a è una lista di stringhe\n",
    "    # f è una funzione che associa un numero ad una stringa\n",
    "    # ritorna il massimo in a rispetto alla funzione f\n",
    "    # ovvero restituisce x in a tale che f(x) >= f(y) per ogni\n",
    "    # y in a"
   ]
  }
 ],
 "metadata": {
  "kernelspec": {
   "display_name": "Python 3",
   "language": "python",
   "name": "python3"
  },
  "language_info": {
   "codemirror_mode": {
    "name": "ipython",
    "version": 3
   },
   "file_extension": ".py",
   "mimetype": "text/x-python",
   "name": "python",
   "nbconvert_exporter": "python",
   "pygments_lexer": "ipython3",
   "version": "3.9.2"
  }
 },
 "nbformat": 4,
 "nbformat_minor": 5
}
