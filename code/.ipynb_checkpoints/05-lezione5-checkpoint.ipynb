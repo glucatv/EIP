{
 "cells": [
  {
   "cell_type": "markdown",
   "id": "interim-cabinet",
   "metadata": {},
   "source": [
    "# Esercizio"
   ]
  },
  {
   "cell_type": "code",
   "execution_count": null,
   "id": "configured-groove",
   "metadata": {},
   "outputs": [],
   "source": [
    "def custom_max(a, f):\n",
    "    '''\n",
    "    a è una lista di stringhe\n",
    "    f è una funzione che associa un numero ad una stringa\n",
    "    ritorna il massimo in a rispetto alla funzione f\n",
    "    ovvero restituisce x in a tale che f(x) >= f(y) per ogni\n",
    "    y in a\n",
    "    '''"
   ]
  },
  {
   "cell_type": "markdown",
   "id": "appointed-advice",
   "metadata": {},
   "source": [
    "`a = ['programma', 'codice', 'python', 'processore', 'iterazione', 'input']`\n",
    "\n",
    "sia `h` una funzione che restituisce il numero di vocali in una stringa.\n",
    "\n",
    "Ordinare la lista `a` rispetto alla funzione `h`: poiché `h('python') < h('codice')`, allora nell'ordinamento, la stringa `'python'` deve precedere `'codice'`\n",
    "\n",
    "Esempio: creiamo un ordinamento rispetto al numero di vocali nella stringa definendo una funzione che conta il numero di vocali"
   ]
  },
  {
   "cell_type": "code",
   "execution_count": 14,
   "id": "established-february",
   "metadata": {},
   "outputs": [],
   "source": [
    "a = ['programma', 'codice', 'python', 'processore', 'iterazione', 'input', 'None']"
   ]
  },
  {
   "cell_type": "code",
   "execution_count": 15,
   "id": "funny-japanese",
   "metadata": {},
   "outputs": [],
   "source": [
    "def num_vocali(x):\n",
    "    lista_vocali = ['a', 'e', 'i', 'o', 'u']\n",
    "    num_vocali = 0\n",
    "    for c in x:\n",
    "        if c in lista_vocali:\n",
    "            num_vocali += 1\n",
    "    return num_vocali"
   ]
  },
  {
   "cell_type": "markdown",
   "id": "worth-diagnosis",
   "metadata": {},
   "source": [
    "Con `num_vocali` possiamo confrontare due stringhe rispetto al valore restituito da questa funzione e selezionare la stringa che massimizzi questo valoro."
   ]
  },
  {
   "cell_type": "code",
   "execution_count": 18,
   "id": "cubic-douglas",
   "metadata": {},
   "outputs": [
    {
     "name": "stdout",
     "output_type": "stream",
     "text": [
      "La lista non contiene stringhe con vocali\n"
     ]
    }
   ],
   "source": [
    "massimo_corrente = 0\n",
    "stringa_massimo_corrente = None\n",
    "for w in a:\n",
    "    if num_vocali(w) > massimo_corrente:\n",
    "        stringa_massimo_corrente = w\n",
    "        massimo_corrente = num_vocali(w)\n",
    "        \n",
    "if stringa_massimo_corrente == None:\n",
    "    print('La lista non contiene stringhe con vocali')\n",
    "else:\n",
    "    print('La stringa col numero massimo di vocali è', stringa_massimo_corrente)"
   ]
  },
  {
   "cell_type": "markdown",
   "id": "weekly-coordinator",
   "metadata": {},
   "source": [
    "rendiamo funzione il precedente frammento di codice"
   ]
  },
  {
   "cell_type": "code",
   "execution_count": 19,
   "id": "varied-arkansas",
   "metadata": {},
   "outputs": [],
   "source": [
    "def max_num_vocali( a ):\n",
    "    '''\n",
    "    Assume: a è una lista di stringhe\n",
    "    Restituisce: la stringa in a col massimo numero di vocali, oppure None se\n",
    "        tale stringa non esiste\n",
    "    '''\n",
    "    massimo_corrente = 0\n",
    "    stringa_massimo_corrente = None\n",
    "    for w in a:\n",
    "        if num_vocali(w) > massimo_corrente:\n",
    "            stringa_massimo_corrente = w\n",
    "            massimo_corrente = num_vocali(w)\n",
    "    return stringa_massimo_corrente"
   ]
  },
  {
   "cell_type": "markdown",
   "id": "bright-singing",
   "metadata": {},
   "source": [
    "*docstring*: le righe di commento racchiuse tra tripli apici sono usate per documentare la funzione e chiamate *docstring*. Sono utilizzate dalla funzione `help`. "
   ]
  },
  {
   "cell_type": "code",
   "execution_count": 20,
   "id": "cheap-weather",
   "metadata": {},
   "outputs": [
    {
     "name": "stdout",
     "output_type": "stream",
     "text": [
      "Help on function max_num_vocali in module __main__:\n",
      "\n",
      "max_num_vocali(a)\n",
      "    Assume: a è una lista di stringhe\n",
      "    Restituisce: la stringa in a col massimo numero di vocali, oppure None se\n",
      "        tale stringa non esiste\n",
      "\n"
     ]
    }
   ],
   "source": [
    "help(max_num_vocali)"
   ]
  },
  {
   "cell_type": "markdown",
   "id": "developing-probability",
   "metadata": {},
   "source": [
    "Se invece di `num_vocali` usiamo un'altra funzione..."
   ]
  },
  {
   "cell_type": "code",
   "execution_count": 24,
   "id": "looking-dimension",
   "metadata": {},
   "outputs": [],
   "source": [
    "def enigma( a ):\n",
    "    '''\n",
    "    Assume: a è una lista di stringhe\n",
    "    Restituisce: ???\n",
    "    '''\n",
    "    massimo_corrente = 0\n",
    "    stringa_massimo_corrente = None\n",
    "    for w in a:\n",
    "        if len(w) > massimo_corrente:\n",
    "            stringa_massimo_corrente = w\n",
    "            massimo_corrente = len(w)\n",
    "    return stringa_massimo_corrente"
   ]
  },
  {
   "cell_type": "code",
   "execution_count": 26,
   "id": "armed-samuel",
   "metadata": {},
   "outputs": [],
   "source": [
    "a = ['programma', 'codice', 'python', 'processore', 'iterazione', 'input', 'None']"
   ]
  },
  {
   "cell_type": "code",
   "execution_count": 27,
   "id": "desirable-plaza",
   "metadata": {},
   "outputs": [
    {
     "name": "stdout",
     "output_type": "stream",
     "text": [
      "processore\n"
     ]
    }
   ],
   "source": [
    "print(enigma(a))"
   ]
  },
  {
   "cell_type": "markdown",
   "id": "nominated-massachusetts",
   "metadata": {},
   "source": [
    "Si può generalizzare rendendo la funzione utilizzata nel confronto un parametro della funzione "
   ]
  },
  {
   "cell_type": "code",
   "execution_count": 29,
   "id": "integrated-patent",
   "metadata": {},
   "outputs": [],
   "source": [
    "def custom_max( a, h):\n",
    "    '''\n",
    "    Assume: a è una lista di stringhe\n",
    "        h è una funzione che associa un numero ad una stringa\n",
    "    Restituisce: la stringa in a che massimizza h ovvero la stringa s tale che\n",
    "        h(s) è massimo rispetto a tutte le stringhe in a; None se tale stringa non\n",
    "        esiste\n",
    "    '''\n",
    "    massimo_corrente = 0\n",
    "    stringa_massimo_corrente = None\n",
    "    for w in a:\n",
    "        if h(w) > massimo_corrente:\n",
    "            stringa_massimo_corrente = w\n",
    "            massimo_corrente = h(w)\n",
    "    return stringa_massimo_corrente"
   ]
  },
  {
   "cell_type": "code",
   "execution_count": 30,
   "id": "senior-landing",
   "metadata": {},
   "outputs": [
    {
     "name": "stdout",
     "output_type": "stream",
     "text": [
      "processore\n"
     ]
    }
   ],
   "source": [
    "print(custom_max( a, len))"
   ]
  },
  {
   "cell_type": "code",
   "execution_count": 31,
   "id": "equivalent-principle",
   "metadata": {},
   "outputs": [
    {
     "name": "stdout",
     "output_type": "stream",
     "text": [
      "iterazione\n"
     ]
    }
   ],
   "source": [
    "print(custom_max( a, num_vocali))"
   ]
  },
  {
   "cell_type": "markdown",
   "id": "secret-inquiry",
   "metadata": {},
   "source": [
    "Indicando un valore predefinito per `h`, la funzione `custom_max` può essere invocata usando soltanto col primo parametro"
   ]
  },
  {
   "cell_type": "code",
   "execution_count": 39,
   "id": "creative-terrorism",
   "metadata": {},
   "outputs": [],
   "source": [
    "def identita(x):\n",
    "    return x\n",
    "\n",
    "def custom_max( a, h = identita):\n",
    "    '''\n",
    "    Assume: a è una lista di stringhe\n",
    "        h è una funzione che associa una stringa ad un valore, il valore predefinito\n",
    "        per h è la funzione identità\n",
    "    Restituisce: la stringa in a che massimizza h ovvero la stringa s tale che\n",
    "        h(s) è massimo rispetto a tutte le stringhe in a; None se tale stringa non\n",
    "        esiste\n",
    "    '''\n",
    "    stringa_massimo_corrente = ''\n",
    "    for w in a:\n",
    "        if h(w) > h(stringa_massimo_corrente):\n",
    "            stringa_massimo_corrente = w\n",
    "    return stringa_massimo_corrente"
   ]
  },
  {
   "cell_type": "code",
   "execution_count": 50,
   "id": "desirable-missouri",
   "metadata": {},
   "outputs": [
    {
     "name": "stdout",
     "output_type": "stream",
     "text": [
      "python\n"
     ]
    }
   ],
   "source": [
    "print(custom_max( a ))"
   ]
  },
  {
   "cell_type": "code",
   "execution_count": 51,
   "id": "changing-listing",
   "metadata": {},
   "outputs": [
    {
     "name": "stdout",
     "output_type": "stream",
     "text": [
      "iterazione\n"
     ]
    }
   ],
   "source": [
    "print(custom_max( a, num_vocali ))"
   ]
  },
  {
   "cell_type": "markdown",
   "id": "suffering-block",
   "metadata": {},
   "source": [
    "In mancanza del parametro `h`, la funzione confronta direttamente i valori nella lista."
   ]
  },
  {
   "cell_type": "markdown",
   "id": "northern-blair",
   "metadata": {},
   "source": [
    "## Funzioni `lambda`\n",
    "\n",
    "Sono funzioni anonime, utilizzate in fase di definizione"
   ]
  },
  {
   "cell_type": "markdown",
   "id": "competitive-traveler",
   "metadata": {},
   "source": [
    "(lambda x: x+2)(4)"
   ]
  },
  {
   "cell_type": "code",
   "execution_count": 75,
   "id": "detailed-debate",
   "metadata": {},
   "outputs": [
    {
     "data": {
      "text/plain": [
       "'python'"
      ]
     },
     "execution_count": 75,
     "metadata": {},
     "output_type": "execute_result"
    }
   ],
   "source": [
    "(lambda x: x)('python')"
   ]
  },
  {
   "cell_type": "code",
   "execution_count": 76,
   "id": "aggressive-satisfaction",
   "metadata": {},
   "outputs": [],
   "source": [
    "def custom_max( a, h = lambda x: x):\n",
    "    '''\n",
    "    Assume: a è una lista di stringhe\n",
    "        h è una funzione che associa un elemento della lista ad un valore.\n",
    "        Il valore predefinito per h è la funzione identità.\n",
    "    Restituisce: l'elemento in a che massimizza h ovvero la l'elemento tale che\n",
    "        h(s) è massimo rispetto a tutte gli altri elementi in a; restituisce None\n",
    "        se tale valore non esiste\n",
    "    '''\n",
    "    stringa_massimo_corrente = ''\n",
    "    for w in a:\n",
    "        if h(w) > h(stringa_massimo_corrente):\n",
    "            stringa_massimo_corrente = w\n",
    "    return stringa_massimo_corrente"
   ]
  },
  {
   "cell_type": "code",
   "execution_count": 77,
   "id": "exposed-ribbon",
   "metadata": {},
   "outputs": [
    {
     "name": "stdout",
     "output_type": "stream",
     "text": [
      "python\n",
      "iterazione\n"
     ]
    }
   ],
   "source": [
    "print(custom_max( a ))\n",
    "print(custom_max( a, num_vocali))"
   ]
  },
  {
   "cell_type": "markdown",
   "id": "expired-maine",
   "metadata": {},
   "source": [
    "alternativamente..."
   ]
  },
  {
   "cell_type": "code",
   "execution_count": 78,
   "id": "adapted-quebec",
   "metadata": {},
   "outputs": [],
   "source": [
    "def custom_max( a, h = None):\n",
    "    '''\n",
    "    Assume: a è una lista di stringhe\n",
    "        h è una funzione che associa un elemento della lista ad un valore.\n",
    "        Il valore predefinito per h è la funzione identità.\n",
    "    Restituisce: l'elemento in a che massimizza h ovvero la l'elemento tale che\n",
    "        h(s) è massimo rispetto a tutte gli altri elementi in a; restituisce None\n",
    "        se tale valore non esiste\n",
    "    '''\n",
    "    if h == None:\n",
    "        h = lambda x: x\n",
    "    stringa_massimo_corrente = ''\n",
    "    for w in a:\n",
    "        if h(w) > h(stringa_massimo_corrente):\n",
    "            stringa_massimo_corrente = w\n",
    "    return stringa_massimo_corrente"
   ]
  },
  {
   "cell_type": "code",
   "execution_count": 79,
   "id": "based-bryan",
   "metadata": {},
   "outputs": [
    {
     "name": "stdout",
     "output_type": "stream",
     "text": [
      "python\n",
      "iterazione\n"
     ]
    }
   ],
   "source": [
    "print(custom_max( a ))\n",
    "print(custom_max( a, num_vocali))"
   ]
  },
  {
   "cell_type": "markdown",
   "id": "documentary-heaven",
   "metadata": {},
   "source": [
    "La funzione `max` incorporata in Python ha caratteristiche simili alla nostra `custom_max`."
   ]
  },
  {
   "cell_type": "code",
   "execution_count": 80,
   "id": "activated-stations",
   "metadata": {},
   "outputs": [
    {
     "data": {
      "text/plain": [
       "'python'"
      ]
     },
     "execution_count": 80,
     "metadata": {},
     "output_type": "execute_result"
    }
   ],
   "source": [
    "max(a)"
   ]
  },
  {
   "cell_type": "code",
   "execution_count": 62,
   "id": "declared-creation",
   "metadata": {},
   "outputs": [
    {
     "name": "stdout",
     "output_type": "stream",
     "text": [
      "Help on built-in function max in module builtins:\n",
      "\n",
      "max(...)\n",
      "    max(iterable, *[, default=obj, key=func]) -> value\n",
      "    max(arg1, arg2, *args, *[, key=func]) -> value\n",
      "    \n",
      "    With a single iterable argument, return its biggest item. The\n",
      "    default keyword-only argument specifies an object to return if\n",
      "    the provided iterable is empty.\n",
      "    With two or more arguments, return the largest argument.\n",
      "\n"
     ]
    }
   ],
   "source": [
    "help(max)"
   ]
  },
  {
   "cell_type": "code",
   "execution_count": 63,
   "id": "distributed-dealer",
   "metadata": {},
   "outputs": [
    {
     "data": {
      "text/plain": [
       "'iterazione'"
      ]
     },
     "execution_count": 63,
     "metadata": {},
     "output_type": "execute_result"
    }
   ],
   "source": [
    "max(a, key=num_vocali)"
   ]
  },
  {
   "cell_type": "code",
   "execution_count": 64,
   "id": "steady-finland",
   "metadata": {},
   "outputs": [
    {
     "name": "stdout",
     "output_type": "stream",
     "text": [
      "Help on built-in function sorted in module builtins:\n",
      "\n",
      "sorted(iterable, /, *, key=None, reverse=False)\n",
      "    Return a new list containing all items from the iterable in ascending order.\n",
      "    \n",
      "    A custom key function can be supplied to customize the sort order, and the\n",
      "    reverse flag can be set to request the result in descending order.\n",
      "\n"
     ]
    }
   ],
   "source": [
    "help(sorted)"
   ]
  },
  {
   "cell_type": "code",
   "execution_count": 66,
   "id": "falling-composer",
   "metadata": {},
   "outputs": [
    {
     "data": {
      "text/plain": [
       "['python', 'input', 'None', 'programma', 'codice', 'processore', 'iterazione']"
      ]
     },
     "execution_count": 66,
     "metadata": {},
     "output_type": "execute_result"
    }
   ],
   "source": [
    "sorted(a, key=num_vocali)"
   ]
  },
  {
   "cell_type": "markdown",
   "id": "embedded-brother",
   "metadata": {},
   "source": [
    "### Esercizio\n",
    "\n",
    "Data una lista di parole, creare un dizionario che ad ogni iniziale associ la lista di parole con quell'iniziale. Stampare gli elementi del dizionario in ordine lessicografico rispetto alle chiavi.\n",
    "\n",
    "**Esempio**: Se la lista di parole è\n",
    "```\n",
    "['programma', 'codice', 'python', 'processore', 'iterazione', 'input']\n",
    "```\n",
    "\n",
    "il dizionario è qualcosa del genere\n",
    "\n",
    "```\n",
    "'c' -> ['codice']\n",
    "'i' -> ['iterazione', 'input']\n",
    "'p' -> ['programma', 'python', 'processore']\n",
    "```\n"
   ]
  },
  {
   "cell_type": "code",
   "execution_count": 68,
   "id": "miniature-florida",
   "metadata": {},
   "outputs": [
    {
     "name": "stdout",
     "output_type": "stream",
     "text": [
      "c -> ['codice']\n",
      "i -> ['iterazione', 'input']\n",
      "p -> ['programma', 'python', 'processore']\n"
     ]
    }
   ],
   "source": [
    "a = ['programma', 'codice', 'python', '', 'processore', 'iterazione', 'input']\n",
    "d = {}\n",
    "for w in a:\n",
    "    if w != '':\n",
    "        k = w[0] # ok se la stringa w contiene almeno un carattere\n",
    "        if k in d:\n",
    "            # esiste d[k], una lista di parole con iniziale k\n",
    "            d[k].append(w)\n",
    "        else:\n",
    "            d[k] = [w]\n",
    "\n",
    "sorted_keys = sorted(d.keys())\n",
    "            \n",
    "for k in sorted_keys:\n",
    "    print(k, '->', d[k])"
   ]
  },
  {
   "cell_type": "code",
   "execution_count": 70,
   "id": "disciplinary-country",
   "metadata": {},
   "outputs": [
    {
     "data": {
      "text/plain": [
       "['c', 'i', 'p']"
      ]
     },
     "execution_count": 70,
     "metadata": {},
     "output_type": "execute_result"
    }
   ],
   "source": [
    "sorted(d)"
   ]
  },
  {
   "cell_type": "code",
   "execution_count": 71,
   "id": "viral-noise",
   "metadata": {},
   "outputs": [
    {
     "data": {
      "text/plain": [
       "{'p': ['programma', 'python', 'processore'],\n",
       " 'c': ['codice'],\n",
       " 'i': ['iterazione', 'input']}"
      ]
     },
     "execution_count": 71,
     "metadata": {},
     "output_type": "execute_result"
    }
   ],
   "source": [
    "d"
   ]
  },
  {
   "cell_type": "code",
   "execution_count": 72,
   "id": "detected-tract",
   "metadata": {},
   "outputs": [],
   "source": [
    "d[0] = []"
   ]
  },
  {
   "cell_type": "code",
   "execution_count": 73,
   "id": "expanded-california",
   "metadata": {},
   "outputs": [
    {
     "data": {
      "text/plain": [
       "{'p': ['programma', 'python', 'processore'],\n",
       " 'c': ['codice'],\n",
       " 'i': ['iterazione', 'input'],\n",
       " 0: []}"
      ]
     },
     "execution_count": 73,
     "metadata": {},
     "output_type": "execute_result"
    }
   ],
   "source": [
    "d"
   ]
  },
  {
   "cell_type": "code",
   "execution_count": 74,
   "id": "faced-prospect",
   "metadata": {},
   "outputs": [
    {
     "ename": "TypeError",
     "evalue": "'<' not supported between instances of 'int' and 'str'",
     "output_type": "error",
     "traceback": [
      "\u001b[0;31m---------------------------------------------------------------------------\u001b[0m",
      "\u001b[0;31mTypeError\u001b[0m                                 Traceback (most recent call last)",
      "\u001b[0;32m<ipython-input-74-3f6b0c485028>\u001b[0m in \u001b[0;36m<module>\u001b[0;34m\u001b[0m\n\u001b[0;32m----> 1\u001b[0;31m \u001b[0msorted\u001b[0m\u001b[0;34m(\u001b[0m\u001b[0md\u001b[0m\u001b[0;34m)\u001b[0m\u001b[0;34m\u001b[0m\u001b[0;34m\u001b[0m\u001b[0m\n\u001b[0m",
      "\u001b[0;31mTypeError\u001b[0m: '<' not supported between instances of 'int' and 'str'"
     ]
    }
   ],
   "source": [
    "sorted(d)"
   ]
  },
  {
   "cell_type": "markdown",
   "id": "registered-organizer",
   "metadata": {},
   "source": [
    "# Esercizio per casa\n",
    "\n",
    "Sia `a` una lista di numeri e stringhe, scrivere un programma che modifichi la lista posizionando i numeri prima delle stringhe.\n",
    "\n",
    "**Per la lode :-)** Fare in modo che i numeri siano ordinati dal più piccolo al più grande e le stringhe in ordine lessicografico. "
   ]
  },
  {
   "cell_type": "code",
   "execution_count": null,
   "id": "raising-wales",
   "metadata": {},
   "outputs": [],
   "source": []
  }
 ],
 "metadata": {
  "kernelspec": {
   "display_name": "Python 3",
   "language": "python",
   "name": "python3"
  },
  "language_info": {
   "codemirror_mode": {
    "name": "ipython",
    "version": 3
   },
   "file_extension": ".py",
   "mimetype": "text/x-python",
   "name": "python",
   "nbconvert_exporter": "python",
   "pygments_lexer": "ipython3",
   "version": "3.9.2"
  }
 },
 "nbformat": 4,
 "nbformat_minor": 5
}
