{
 "cells": [
  {
   "cell_type": "markdown",
   "id": "above-luther",
   "metadata": {},
   "source": [
    "# La funzione `input`\n",
    "\n",
    "Attende che l'utente digiti un testo e lo restituisce al programma come una *stringa*."
   ]
  },
  {
   "cell_type": "code",
   "execution_count": null,
   "id": "elect-telling",
   "metadata": {},
   "outputs": [],
   "source": [
    "a = input('Digita qualcosa: ')\n",
    "print('La stringa digitata è:', a)"
   ]
  },
  {
   "cell_type": "markdown",
   "id": "honey-genius",
   "metadata": {},
   "source": [
    "Le stringhe hanno tipo `str`."
   ]
  },
  {
   "cell_type": "code",
   "execution_count": null,
   "id": "recent-commerce",
   "metadata": {},
   "outputs": [],
   "source": [
    "type(a)"
   ]
  },
  {
   "cell_type": "markdown",
   "id": "atomic-pulse",
   "metadata": {},
   "source": [
    "La stringa di input può essere covertita secondo le esidenze come nell'esempio che segue."
   ]
  },
  {
   "cell_type": "code",
   "execution_count": null,
   "id": "conventional-sound",
   "metadata": {},
   "outputs": [],
   "source": [
    "def radice_quadrata( x ):\n",
    "    eps = 0.000001\n",
    "    \n",
    "    # introduzione delle variabili\n",
    "    g = x\n",
    "    \n",
    "    while abs(g*g - x) > eps :\n",
    "        g = ( g + x/g )/2\n",
    "        \n",
    "    return g"
   ]
  },
  {
   "cell_type": "code",
   "execution_count": null,
   "id": "appreciated-protest",
   "metadata": {},
   "outputs": [],
   "source": [
    "x = input('Digitare un numero: ')\n",
    "rq_x = radice_quadrata( float(x) )\n",
    "print('La radice quadrata di ', x, 'è', rq_x)"
   ]
  },
  {
   "cell_type": "markdown",
   "id": "cathedral-politics",
   "metadata": {},
   "source": [
    "# Alcune operazioni sulle stringhe\n",
    "\n",
    "### Operazione di *indicizzazione*"
   ]
  },
  {
   "cell_type": "code",
   "execution_count": null,
   "id": "knowing-component",
   "metadata": {},
   "outputs": [],
   "source": [
    "a = 'abcdefghi'\n",
    "\n",
    "c = a[0]\n",
    "\n",
    "print(c)"
   ]
  },
  {
   "cell_type": "code",
   "execution_count": null,
   "id": "printable-surgeon",
   "metadata": {},
   "outputs": [],
   "source": [
    "type(a)"
   ]
  },
  {
   "cell_type": "code",
   "execution_count": null,
   "id": "framed-insured",
   "metadata": {},
   "outputs": [],
   "source": [
    "len(a)"
   ]
  },
  {
   "cell_type": "markdown",
   "id": "respiratory-variance",
   "metadata": {},
   "source": [
    "2. Indici negativi"
   ]
  },
  {
   "cell_type": "code",
   "execution_count": null,
   "id": "nuclear-authentication",
   "metadata": {},
   "outputs": [],
   "source": [
    "a[-1]"
   ]
  },
  {
   "cell_type": "code",
   "execution_count": null,
   "id": "fifteen-enterprise",
   "metadata": {},
   "outputs": [],
   "source": [
    "print(a[-1], a[-2])"
   ]
  },
  {
   "cell_type": "markdown",
   "id": "guilty-weather",
   "metadata": {},
   "source": [
    "#### Esercizio\n",
    "\n",
    "Stampare una stringa digitata dall'utente in verticale "
   ]
  },
  {
   "cell_type": "code",
   "execution_count": null,
   "id": "earlier-simulation",
   "metadata": {},
   "outputs": [],
   "source": [
    "a = input('Digitare una stringa: ')\n",
    "\n",
    "p = 0\n",
    "\n",
    "while p < len(a):  # fintanto che p sia un indice 'legale'\n",
    "    print(a[p])\n",
    "    p = p+1 # p += 1"
   ]
  },
  {
   "cell_type": "markdown",
   "id": "practical-sending",
   "metadata": {},
   "source": [
    "## Iterare con l'istruzione `for`"
   ]
  },
  {
   "cell_type": "code",
   "execution_count": null,
   "id": "monthly-factory",
   "metadata": {},
   "outputs": [],
   "source": [
    "a = input('Digitare una stringa: ')\n",
    "\n",
    "for x in a:\n",
    "    print(x)"
   ]
  },
  {
   "cell_type": "markdown",
   "id": "filled-amazon",
   "metadata": {},
   "source": [
    "### Operatore di *concatenazione*"
   ]
  },
  {
   "cell_type": "code",
   "execution_count": null,
   "id": "minus-cleaner",
   "metadata": {},
   "outputs": [],
   "source": [
    "a = input('Digita una stringa:' )\n",
    "b = input('Digita un\\'altra stringa:' )\n",
    "c = a+b\n",
    "print(c)"
   ]
  },
  {
   "cell_type": "markdown",
   "id": "disabled-broadcast",
   "metadata": {},
   "source": [
    "### Operatore di *ripetizione*"
   ]
  },
  {
   "cell_type": "code",
   "execution_count": null,
   "id": "assumed-positive",
   "metadata": {},
   "outputs": [],
   "source": [
    "d = a*2\n",
    "d1 = 5*b\n",
    "print(d, d1)"
   ]
  },
  {
   "cell_type": "code",
   "execution_count": null,
   "id": "multiple-amateur",
   "metadata": {},
   "outputs": [],
   "source": [
    "e = (a+b)*2+d\n",
    "print(e)"
   ]
  },
  {
   "cell_type": "markdown",
   "id": "smart-colombia",
   "metadata": {},
   "source": [
    "#### Esercizio\n",
    "\n",
    "Stampare la stringa digitata dall'utente in diagonale."
   ]
  },
  {
   "cell_type": "code",
   "execution_count": null,
   "id": "turned-pittsburgh",
   "metadata": {},
   "outputs": [],
   "source": [
    "a = input('Digitare una stringa: ')\n",
    "\n",
    "p = 0\n",
    "for x in a:\n",
    "    print(' '*p+x)\n",
    "    p += 1"
   ]
  },
  {
   "cell_type": "markdown",
   "id": "sixth-handle",
   "metadata": {},
   "source": [
    "### Operazione di *slicing*"
   ]
  },
  {
   "cell_type": "code",
   "execution_count": null,
   "id": "traditional-bennett",
   "metadata": {},
   "outputs": [],
   "source": [
    "a = 'abcdefg'\n",
    "\n",
    "b = a[1:5] # Slicing\n",
    "\n",
    "print(b)"
   ]
  },
  {
   "cell_type": "markdown",
   "id": "hearing-symposium",
   "metadata": {},
   "source": [
    "#### Esercizio\n",
    "\n",
    "Data una stringa che rappresenta il nome di un file, ricavare il nome a meno dell'estensione."
   ]
  },
  {
   "cell_type": "code",
   "execution_count": null,
   "id": "about-library",
   "metadata": {},
   "outputs": [],
   "source": [
    "a = 'nome_file.doc'"
   ]
  },
  {
   "cell_type": "markdown",
   "id": "statutory-petroleum",
   "metadata": {},
   "source": [
    "Supponiamo che `p` sia la posizione del punto, a noi interessa `a[0:p]`.\n",
    "\n",
    "Problema: come trovare `p`."
   ]
  },
  {
   "cell_type": "code",
   "execution_count": null,
   "id": "sensitive-textbook",
   "metadata": {},
   "outputs": [],
   "source": [
    "p = 0\n",
    "\n",
    "while a[p] != '.': # != restituisce True se i due valori sono diversi\n",
    "    p += 1"
   ]
  },
  {
   "cell_type": "code",
   "execution_count": null,
   "id": "baking-flood",
   "metadata": {},
   "outputs": [],
   "source": [
    "print(p)"
   ]
  },
  {
   "cell_type": "code",
   "execution_count": null,
   "id": "major-joshua",
   "metadata": {},
   "outputs": [],
   "source": [
    "print(a[0:p])"
   ]
  },
  {
   "cell_type": "markdown",
   "id": "described-bread",
   "metadata": {},
   "source": [
    "### Operatori di *confronto*\n",
    "\n",
    "Operatore `==` restituisce `True` se i due operandi sono uguali; `!=` restituisce `True` se sono diversi\n",
    "\n",
    "`123 == 127`"
   ]
  },
  {
   "cell_type": "code",
   "execution_count": null,
   "id": "parliamentary-bracelet",
   "metadata": {},
   "outputs": [],
   "source": [
    "'abcde' < 'bcd'"
   ]
  },
  {
   "cell_type": "code",
   "execution_count": null,
   "id": "double-outreach",
   "metadata": {},
   "outputs": [],
   "source": [
    "'xyz' < 'abcdefghi'"
   ]
  },
  {
   "cell_type": "code",
   "execution_count": null,
   "id": "following-cedar",
   "metadata": {},
   "outputs": [],
   "source": [
    "'034a' < 'abrd'"
   ]
  },
  {
   "cell_type": "code",
   "execution_count": null,
   "id": "serious-minimum",
   "metadata": {},
   "outputs": [],
   "source": [
    "'034a' < 'ABRD'"
   ]
  },
  {
   "cell_type": "markdown",
   "id": "intensive-desperate",
   "metadata": {},
   "source": [
    "Ancora sullo slicing..."
   ]
  },
  {
   "cell_type": "code",
   "execution_count": null,
   "id": "otherwise-respect",
   "metadata": {},
   "outputs": [],
   "source": [
    "a = 'abcdefg'\n",
    "\n",
    "print(a[1:5:2])"
   ]
  },
  {
   "cell_type": "code",
   "execution_count": null,
   "id": "middle-mention",
   "metadata": {},
   "outputs": [],
   "source": [
    "print(a[:5:2])"
   ]
  },
  {
   "cell_type": "code",
   "execution_count": null,
   "id": "ranging-bunny",
   "metadata": {},
   "outputs": [],
   "source": [
    "print(a[::2])"
   ]
  },
  {
   "cell_type": "code",
   "execution_count": null,
   "id": "destroyed-status",
   "metadata": {},
   "outputs": [],
   "source": [
    "print(a[::-1])"
   ]
  },
  {
   "cell_type": "code",
   "execution_count": null,
   "id": "amino-parks",
   "metadata": {},
   "outputs": [],
   "source": [
    "print(a[5:2:-1])"
   ]
  },
  {
   "cell_type": "markdown",
   "id": "disabled-couple",
   "metadata": {},
   "source": [
    "### L'operatore `in`"
   ]
  },
  {
   "cell_type": "code",
   "execution_count": 1,
   "id": "increasing-adobe",
   "metadata": {},
   "outputs": [
    {
     "data": {
      "text/plain": [
       "True"
      ]
     },
     "execution_count": 1,
     "metadata": {},
     "output_type": "execute_result"
    }
   ],
   "source": [
    "'pr' in 'programmazione'"
   ]
  },
  {
   "cell_type": "markdown",
   "id": "special-matter",
   "metadata": {},
   "source": [
    "### Esercizio\n",
    "\n",
    "Scrivere una funzione che conti il numero di vocali nella stringa in input."
   ]
  },
  {
   "cell_type": "code",
   "execution_count": null,
   "id": "latin-pillow",
   "metadata": {},
   "outputs": [],
   "source": [
    "def conta_vocali( a ):\n",
    "    num_vocali = 0\n",
    "    for x in a:\n",
    "        if x in 'aeiouAEIOU': # se la condizione è vera esegue il blocco di istruzioni\n",
    "            num_vocali += 1\n",
    "    return num_vocali\n",
    "\n",
    "a = input('Digita una stringa:' )\n",
    "\n",
    "n = conta_vocali(a)\n",
    "\n",
    "print('Il numero di vocali in '+a+' è '+str(n))"
   ]
  },
  {
   "cell_type": "markdown",
   "id": "wrapped-prophet",
   "metadata": {},
   "source": [
    "# if ... else"
   ]
  },
  {
   "cell_type": "code",
   "execution_count": null,
   "id": "forty-desert",
   "metadata": {},
   "outputs": [],
   "source": [
    "a = input('Inserisci una stringa ')\n",
    "b = 10\n",
    "\n",
    "if len(a) > 7:\n",
    "    b += 10\n",
    "else:\n",
    "    b -= 5\n",
    "\n",
    "print(b)"
   ]
  },
  {
   "cell_type": "markdown",
   "id": "harmful-filter",
   "metadata": {},
   "source": [
    "### Esercizio\n",
    "\n",
    "Scrivere una funzione che prenda una stringa in input, la stampi e ne evidenzi le vocali inserendo il simpolo `*` sotto di esse.\n",
    "\n",
    "```\n",
    "Programmazione\n",
    "  *  *  * ** *\n",
    "```"
   ]
  },
  {
   "cell_type": "code",
   "execution_count": null,
   "id": "structural-coating",
   "metadata": {},
   "outputs": [],
   "source": [
    "def evidenza_vocali( a ):\n",
    "    print(a)\n",
    "    i = 0\n",
    "    while i < len(a):\n",
    "        if a[i] in 'aeiouAEIOU':\n",
    "            a[i] = '*' # ILLEGALE\n",
    "        else:\n",
    "            a[i] = ' ' # ILLEGALE\n",
    "        i += 1\n",
    "    print(a)\n",
    "\n",
    "a = input('Digita una stringa:' )\n",
    "evidenza_vocali(a)"
   ]
  },
  {
   "cell_type": "markdown",
   "id": "sporting-liver",
   "metadata": {},
   "source": [
    "La precedente funzione tenta di modificare una stringa, in Python questo non è possibile perché le stringhe sono **immutabili**."
   ]
  },
  {
   "cell_type": "code",
   "execution_count": null,
   "id": "growing-health",
   "metadata": {},
   "outputs": [],
   "source": [
    "def evidenza_vocali( a ):\n",
    "    vocali = 'aeiouAEIOU'\n",
    "    result = ''\n",
    "\n",
    "    for i in a:\n",
    "            if i in vocali:\n",
    "                result = result + '*'\n",
    "            else:\n",
    "                result = result + ' '\n",
    "\n",
    "    print(a)\n",
    "    print(result)\n",
    "    \n",
    "a = input('Digita una stringa:' )\n",
    "evidenza_vocali(a)"
   ]
  },
  {
   "cell_type": "markdown",
   "id": "improved-major",
   "metadata": {},
   "source": [
    "# `range()`"
   ]
  },
  {
   "cell_type": "code",
   "execution_count": null,
   "id": "comfortable-parliament",
   "metadata": {},
   "outputs": [],
   "source": [
    "a = 'stringa'\n",
    "for i in range(len(a)):\n",
    "    print(i, a[i])"
   ]
  },
  {
   "cell_type": "code",
   "execution_count": null,
   "id": "recent-holly",
   "metadata": {},
   "outputs": [],
   "source": [
    "a = 'stringa'\n",
    "i = 0\n",
    "while i < len(a):\n",
    "    print(i, a[i])\n",
    "    i += 1"
   ]
  },
  {
   "cell_type": "code",
   "execution_count": null,
   "id": "fitting-messaging",
   "metadata": {},
   "outputs": [],
   "source": [
    "for i in range(3, 10):\n",
    "    print(i)"
   ]
  },
  {
   "cell_type": "code",
   "execution_count": null,
   "id": "included-invasion",
   "metadata": {},
   "outputs": [],
   "source": [
    "for i in range(3, 10, 2):\n",
    "    print(i)"
   ]
  },
  {
   "cell_type": "code",
   "execution_count": null,
   "id": "under-devil",
   "metadata": {},
   "outputs": [],
   "source": [
    "for i in range(10, 2, -1):\n",
    "    print(i)"
   ]
  },
  {
   "cell_type": "markdown",
   "id": "respective-summit",
   "metadata": {},
   "source": [
    "### Esercizio per casa\n",
    "\n",
    "Scrivere una funzione che prenda in input due stringhe e le stampi una in verticale, l'altra in orizzontale incrociandole in un carattere comune. Nel caso in cui non abbiano caratteri in comune, stampi un avviso.\n",
    "\n",
    "Esempio: se le stringhe sono `angelo` e `programmazione` la funzione deve stampare qualcosa del genere\n",
    "\n",
    "```\n",
    "   a\n",
    "   n  \n",
    "programmazione\n",
    "   e\n",
    "   l\n",
    "   o\n",
    "```"
   ]
  },
  {
   "cell_type": "markdown",
   "id": "moved-bottom",
   "metadata": {},
   "source": [
    "#### Soluzione\n",
    "\n",
    "Sia `a` e `b` le due stringhe. "
   ]
  }
 ],
 "metadata": {
  "kernelspec": {
   "display_name": "Python 3",
   "language": "python",
   "name": "python3"
  },
  "language_info": {
   "codemirror_mode": {
    "name": "ipython",
    "version": 3
   },
   "file_extension": ".py",
   "mimetype": "text/x-python",
   "name": "python",
   "nbconvert_exporter": "python",
   "pygments_lexer": "ipython3",
   "version": "3.9.2"
  }
 },
 "nbformat": 4,
 "nbformat_minor": 5
}
